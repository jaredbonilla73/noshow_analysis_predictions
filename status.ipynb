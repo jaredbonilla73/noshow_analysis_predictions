{
 "cells": [
  {
   "cell_type": "code",
   "execution_count": 27,
   "metadata": {
    "slideshow": {
     "slide_type": "skip"
    }
   },
   "outputs": [],
   "source": [
    "import numpy as np\n",
    "import pandas as pd\n",
    "\n",
    "df = pd.read_excel('Copy of App_By status.XLSX',sheet_name=0)"
   ]
  },
  {
   "cell_type": "markdown",
   "metadata": {
    "slideshow": {
     "slide_type": "slide"
    }
   },
   "source": [
    "# The Problem:\n",
    "One of the biggest issues facing the Hispanic Counseling Center, a mental health agency centered in Hempstead, NY is an excessive amount of clients not showing up to appointments without any type of notice in advance. \n",
    "\n",
    "When a client misses an appointment in this manner, the agency pays the therapist for that time slot essentially wasting money as well as time that could've been allocated to another client. In January-June 2019, HCC had 1849 \"No Show\" appointments costing the agency roughly 216,333 of dollars.\n",
    "\n",
    "(117 hourly rate X #-No-Show-Appointments)\n",
    "(This is an estimate based on average hourly rate for therapist)"
   ]
  },
  {
   "cell_type": "markdown",
   "metadata": {
    "slideshow": {
     "slide_type": "subslide"
    }
   },
   "source": [
    "## Solution:\n",
    "The goal in this study is to try and find underlying patterns in clients based on demographic, geographical and appointment history to assess if certain variables play an effect on the likelihood of a client provide the agency a foundation to minimize this issue and save money. "
   ]
  },
  {
   "cell_type": "markdown",
   "metadata": {
    "slideshow": {
     "slide_type": "skip"
    }
   },
   "source": [
    "# Fix Column names and Drop unnecessary Columns"
   ]
  },
  {
   "cell_type": "code",
   "execution_count": 28,
   "metadata": {
    "slideshow": {
     "slide_type": "skip"
    }
   },
   "outputs": [],
   "source": [
    "cols_to_drop = ['addr1','addr2','date_of_birth','name','diag_1','diag_2','diag_3']\n",
    "\n",
    "mapping = {'appt_confirmed':'confirm',\n",
    "           'appt_status_desc':'status',\n",
    "           'appt_time_only':'time',\n",
    "           'appt_date_only':'date',\n",
    "           'provider_name':'therapist',\n",
    "           'service_name': 'type'}\n",
    "df.drop(cols_to_drop,axis=1,inplace=True)\n",
    "df.rename(mapping, axis=1, inplace=True)"
   ]
  },
  {
   "cell_type": "code",
   "execution_count": 29,
   "metadata": {
    "slideshow": {
     "slide_type": "skip"
    }
   },
   "outputs": [
    {
     "data": {
      "text/html": [
       "<div>\n",
       "<style scoped>\n",
       "    .dataframe tbody tr th:only-of-type {\n",
       "        vertical-align: middle;\n",
       "    }\n",
       "\n",
       "    .dataframe tbody tr th {\n",
       "        vertical-align: top;\n",
       "    }\n",
       "\n",
       "    .dataframe thead th {\n",
       "        text-align: right;\n",
       "    }\n",
       "</style>\n",
       "<table border=\"1\" class=\"dataframe\">\n",
       "  <thead>\n",
       "    <tr style=\"text-align: right;\">\n",
       "      <th></th>\n",
       "      <th>account</th>\n",
       "      <th>confirm</th>\n",
       "      <th>status</th>\n",
       "      <th>date</th>\n",
       "      <th>time</th>\n",
       "      <th>city</th>\n",
       "      <th>zip</th>\n",
       "      <th>sex</th>\n",
       "      <th>type</th>\n",
       "      <th>therapist</th>\n",
       "      <th>age</th>\n",
       "    </tr>\n",
       "  </thead>\n",
       "  <tbody>\n",
       "    <tr>\n",
       "      <th>0</th>\n",
       "      <td>100017</td>\n",
       "      <td>N</td>\n",
       "      <td>No Show</td>\n",
       "      <td>01-28-2019</td>\n",
       "      <td>14:00</td>\n",
       "      <td>HEMPSTEAD</td>\n",
       "      <td>11550.0</td>\n",
       "      <td>M</td>\n",
       "      <td>MH INTAKE-90791</td>\n",
       "      <td>VAZQUEZ, MSW,-BI, CASAC-T,LIDUVINA</td>\n",
       "      <td>59</td>\n",
       "    </tr>\n",
       "    <tr>\n",
       "      <th>1</th>\n",
       "      <td>100072</td>\n",
       "      <td>Y</td>\n",
       "      <td>Seen/Billed</td>\n",
       "      <td>01-04-2019</td>\n",
       "      <td>15:30</td>\n",
       "      <td>UNIONDALE</td>\n",
       "      <td>11566.0</td>\n",
       "      <td>F</td>\n",
       "      <td>MH IND 30MIN-90832</td>\n",
       "      <td>STANTON, LCSW,ALEXANDRA</td>\n",
       "      <td>60</td>\n",
       "    </tr>\n",
       "    <tr>\n",
       "      <th>2</th>\n",
       "      <td>100072</td>\n",
       "      <td>Y</td>\n",
       "      <td>Seen/Billed</td>\n",
       "      <td>01-07-2019</td>\n",
       "      <td>15:00</td>\n",
       "      <td>UNIONDALE</td>\n",
       "      <td>11566.0</td>\n",
       "      <td>F</td>\n",
       "      <td>MH PSY FOLLOW UP 15MIN-99213</td>\n",
       "      <td>VITAL-HERNE, MD,JACQUES</td>\n",
       "      <td>60</td>\n",
       "    </tr>\n",
       "    <tr>\n",
       "      <th>3</th>\n",
       "      <td>100072</td>\n",
       "      <td>N</td>\n",
       "      <td>Seen/Billed</td>\n",
       "      <td>01-11-2019</td>\n",
       "      <td>15:30</td>\n",
       "      <td>UNIONDALE</td>\n",
       "      <td>11566.0</td>\n",
       "      <td>F</td>\n",
       "      <td>MH IND 30MIN-90832</td>\n",
       "      <td>STANTON, LCSW,ALEXANDRA</td>\n",
       "      <td>60</td>\n",
       "    </tr>\n",
       "    <tr>\n",
       "      <th>4</th>\n",
       "      <td>100072</td>\n",
       "      <td>Y</td>\n",
       "      <td>Seen/Billed</td>\n",
       "      <td>01-17-2019</td>\n",
       "      <td>15:00</td>\n",
       "      <td>UNIONDALE</td>\n",
       "      <td>11566.0</td>\n",
       "      <td>F</td>\n",
       "      <td>MH FAMILY W/PT 60MIN-90847</td>\n",
       "      <td>STANTON, LCSW,ALEXANDRA</td>\n",
       "      <td>60</td>\n",
       "    </tr>\n",
       "  </tbody>\n",
       "</table>\n",
       "</div>"
      ],
      "text/plain": [
       "   account confirm       status        date   time       city      zip sex  \\\n",
       "0   100017       N      No Show  01-28-2019  14:00  HEMPSTEAD  11550.0   M   \n",
       "1   100072       Y  Seen/Billed  01-04-2019  15:30  UNIONDALE  11566.0   F   \n",
       "2   100072       Y  Seen/Billed  01-07-2019  15:00  UNIONDALE  11566.0   F   \n",
       "3   100072       N  Seen/Billed  01-11-2019  15:30  UNIONDALE  11566.0   F   \n",
       "4   100072       Y  Seen/Billed  01-17-2019  15:00  UNIONDALE  11566.0   F   \n",
       "\n",
       "                           type                           therapist  age  \n",
       "0               MH INTAKE-90791  VAZQUEZ, MSW,-BI, CASAC-T,LIDUVINA   59  \n",
       "1            MH IND 30MIN-90832             STANTON, LCSW,ALEXANDRA   60  \n",
       "2  MH PSY FOLLOW UP 15MIN-99213             VITAL-HERNE, MD,JACQUES   60  \n",
       "3            MH IND 30MIN-90832             STANTON, LCSW,ALEXANDRA   60  \n",
       "4    MH FAMILY W/PT 60MIN-90847             STANTON, LCSW,ALEXANDRA   60  "
      ]
     },
     "execution_count": 29,
     "metadata": {},
     "output_type": "execute_result"
    }
   ],
   "source": [
    "df.head()"
   ]
  },
  {
   "cell_type": "markdown",
   "metadata": {
    "slideshow": {
     "slide_type": "skip"
    }
   },
   "source": [
    "# Explore and Clean"
   ]
  },
  {
   "cell_type": "code",
   "execution_count": 30,
   "metadata": {
    "slideshow": {
     "slide_type": "skip"
    }
   },
   "outputs": [],
   "source": [
    "df['date'] = pd.to_datetime(df['date'])"
   ]
  },
  {
   "cell_type": "code",
   "execution_count": 31,
   "metadata": {
    "slideshow": {
     "slide_type": "skip"
    }
   },
   "outputs": [],
   "source": [
    "df['day_of_week'] = df['date'].dt.dayofweek"
   ]
  },
  {
   "cell_type": "code",
   "execution_count": 32,
   "metadata": {
    "slideshow": {
     "slide_type": "skip"
    }
   },
   "outputs": [],
   "source": [
    "df['time'] = pd.to_datetime(df['time']).dt.time"
   ]
  },
  {
   "cell_type": "code",
   "execution_count": 33,
   "metadata": {
    "slideshow": {
     "slide_type": "skip"
    }
   },
   "outputs": [
    {
     "data": {
      "text/plain": [
       "account        False\n",
       "confirm        False\n",
       "status         False\n",
       "date           False\n",
       "time           False\n",
       "city           False\n",
       "zip             True\n",
       "sex            False\n",
       "type            True\n",
       "therapist      False\n",
       "age            False\n",
       "day_of_week    False\n",
       "dtype: bool"
      ]
     },
     "execution_count": 33,
     "metadata": {},
     "output_type": "execute_result"
    }
   ],
   "source": [
    "df.isnull().any()"
   ]
  },
  {
   "cell_type": "code",
   "execution_count": 34,
   "metadata": {
    "slideshow": {
     "slide_type": "skip"
    }
   },
   "outputs": [],
   "source": [
    "df.drop('zip',axis=1,inplace=True)"
   ]
  },
  {
   "cell_type": "code",
   "execution_count": 37,
   "metadata": {
    "slideshow": {
     "slide_type": "skip"
    }
   },
   "outputs": [
    {
     "data": {
      "text/plain": [
       "array(['HEMPSTEAD', 'UNIONDALE', 'ROCKVILLE CENTRE', 'LONG BEACH',\n",
       "       'ROOSEVELT', 'ELMONT', 'PORT WASHINGTON', 'WEST HEMPSTEAD',\n",
       "       'FREEPORT', 'BALDWIN', 'LYNBROOK', 'FLORAL PARK', 'MINEOLA',\n",
       "       'HICKSVILLE', 'WESTBURY', 'FRANKLIN SQUARE', 'ROSLYN HEIGHT',\n",
       "       'GREENVALE', 'VALLEY STREAM', 'WANTAGH', 'GLEN COVE', 'WOODMERE',\n",
       "       'GARDEN CITY PARK', 'EAST MEADOW', 'OCEANSIDE', 'INWOOD',\n",
       "       'LEVITTOWN', 'BALWIN', 'FARMINGDALE', 'CENTRAL ISLIP',\n",
       "       'ROCKVILLE CENTER', 'ISLAND PARK', 'GARDEN CITY', 'OYSTER BAY',\n",
       "       'STONY BROOK', 'MERRICK', 'MASSAPEQUA', 'CARLE PLACE',\n",
       "       'NEW HYDE PARK', 'ROCKVILE CENTRE', 'MALVERNE', 'BROOKVILLE',\n",
       "       'BELLROSE', 'BETHPAGE', 'JERICHO', 'PLAIVIEW', 'ROSLYN',\n",
       "       'WILLISTON PARK', 'CEDARHURST', 'BAYVILLE', 'GREAT NECK',\n",
       "       'BELLMORE', 'NORTH BELLMORE', 'SYOSSET', 'MANHASSET',\n",
       "       'MASSAPPEQUA', 'HICKVILLE', 'SEAFORD', 'ALBERSTON',\n",
       "       'WILLINSTON PARK', 'COPIAGUE', 'EAST ROCKAWAY', 'PLAINVIEW',\n",
       "       'EAST FARMINGDALE', 'LOCUST VALLEY', 'FAR ROCKAWAY'], dtype=object)"
      ]
     },
     "execution_count": 37,
     "metadata": {},
     "output_type": "execute_result"
    }
   ],
   "source": [
    "df.city.unique()"
   ]
  },
  {
   "cell_type": "code",
   "execution_count": 41,
   "metadata": {
    "slideshow": {
     "slide_type": "skip"
    }
   },
   "outputs": [
    {
     "data": {
      "text/plain": [
       "Seen/Billed        10747\n",
       "Cancelled           3409\n",
       "No Show             2006\n",
       "Not Seen/Billed      620\n",
       "Rescheduled          349\n",
       "Late Cancelled       133\n",
       "Admin Hold             1\n",
       "Name: status, dtype: int64"
      ]
     },
     "execution_count": 41,
     "metadata": {},
     "output_type": "execute_result"
    }
   ],
   "source": [
    "df.status.value_counts()"
   ]
  },
  {
   "cell_type": "markdown",
   "metadata": {
    "slideshow": {
     "slide_type": "skip"
    }
   },
   "source": [
    "Dropped all therapist that contain the title 'FFS' as this means 'Fee For Service'. During these type of appointments, the agency doesnt make nor lose money based on the clients attendance."
   ]
  },
  {
   "cell_type": "code",
   "execution_count": 43,
   "metadata": {
    "slideshow": {
     "slide_type": "skip"
    }
   },
   "outputs": [],
   "source": [
    "df = df[~df.therapist.str.contains('FFS')]"
   ]
  },
  {
   "cell_type": "code",
   "execution_count": 44,
   "metadata": {
    "slideshow": {
     "slide_type": "skip"
    }
   },
   "outputs": [],
   "source": [
    "df['therapist'] = df['therapist'].str.replace('CORONEL, MHC-LP,ELIZABETH J','CORONEL, MHC-LP,ELIZABETH')"
   ]
  },
  {
   "cell_type": "code",
   "execution_count": 46,
   "metadata": {
    "slideshow": {
     "slide_type": "skip"
    }
   },
   "outputs": [],
   "source": [
    "from sklearn import preprocessing\n",
    "le = preprocessing.LabelEncoder()\n",
    "le.fit(df['therapist'])\n",
    "df['therapist'] = le.transform(df['therapist'])"
   ]
  },
  {
   "cell_type": "code",
   "execution_count": 49,
   "metadata": {
    "slideshow": {
     "slide_type": "skip"
    }
   },
   "outputs": [],
   "source": [
    "def therapist_change(feature):\n",
    "    feature = 'therapist_' +str(feature)\n",
    "    return feature\n",
    "\n",
    "df['therapist'] = df['therapist'].apply(therapist_changeapist_change)"
   ]
  },
  {
   "cell_type": "code",
   "execution_count": 50,
   "metadata": {
    "slideshow": {
     "slide_type": "skip"
    }
   },
   "outputs": [
    {
     "data": {
      "text/plain": [
       "therapist_19    1772\n",
       "therapist_25    1193\n",
       "therapist_7     1180\n",
       "therapist_9     1168\n",
       "therapist_20    1127\n",
       "therapist_22    1122\n",
       "therapist_8     1105\n",
       "therapist_23    1087\n",
       "therapist_17    1057\n",
       "therapist_13    1020\n",
       "therapist_0      973\n",
       "therapist_14     929\n",
       "therapist_2      714\n",
       "therapist_11     376\n",
       "therapist_10     216\n",
       "therapist_16     207\n",
       "therapist_24     198\n",
       "therapist_15      91\n",
       "therapist_18      51\n",
       "therapist_6       47\n",
       "therapist_3       41\n",
       "therapist_21      39\n",
       "therapist_12      38\n",
       "therapist_4       11\n",
       "therapist_1       10\n",
       "therapist_5        1\n",
       "Name: therapist, dtype: int64"
      ]
     },
     "execution_count": 50,
     "metadata": {},
     "output_type": "execute_result"
    }
   ],
   "source": [
    "df.therapist.value_counts()"
   ]
  },
  {
   "cell_type": "markdown",
   "metadata": {
    "slideshow": {
     "slide_type": "skip"
    }
   },
   "source": [
    "The upcoming information exposes potentially sensitive information from therapist of the agency. After making sure each therapist represented by one value alone, I changed all their names to therapist_ accomapnied by a random integer. This was done to avoid potential legal and personal issues. (The agency was given an original copy of this information with the therapist name as to be seen, some of this information was useful and important."
   ]
  },
  {
   "cell_type": "code",
   "execution_count": 51,
   "metadata": {
    "slideshow": {
     "slide_type": "skip"
    }
   },
   "outputs": [
    {
     "name": "stdout",
     "output_type": "stream",
     "text": [
      "Seen/Billed        61.415076\n",
      "Cancelled          20.420973\n",
      "No Show            11.722564\n",
      "Not Seen/Billed     3.455272\n",
      "Rescheduled         2.168262\n",
      "Late Cancelled      0.811513\n",
      "Admin Hold          0.006340\n",
      "Name: status, dtype: float64\n"
     ]
    }
   ],
   "source": [
    "print(df['status'].value_counts(normalize=True)*100)"
   ]
  },
  {
   "cell_type": "code",
   "execution_count": 52,
   "metadata": {
    "slideshow": {
     "slide_type": "skip"
    }
   },
   "outputs": [
    {
     "data": {
      "text/plain": [
       "MH IND 30MIN-90832                       8617\n",
       "MH PSY FOLLOW UP 15MIN-99213             3159\n",
       "MH INTAKE-90791                           961\n",
       "MH IND 45MIN-90834                        846\n",
       "MH PSY EVAL-90792                         724\n",
       "MH FAMILY W/PT 60MIN-90847                632\n",
       "MH GROUP 90853                            457\n",
       "MH FAMILY W/O PT 30MIN-90846              167\n",
       "MH PSYCHIATRIC RE-EVALUATION (UPDATE)     105\n",
       "MH PSY FOLLOW UP 20-30MIN-99214            33\n",
       "COMPLEX CARE-90882                         16\n",
       "Crisis Intervention per Hour               14\n",
       "MH IND 60MIN-90837                         12\n",
       "CRISIS 15MIN-H2011                          8\n",
       "MH FOLLOW UP INTAKE                         2\n",
       "BALANCE FORWARD                             1\n",
       "SBIRT-FULL SCREENING                        1\n",
       "MH PSY FOLLOW UP 45MIN-99215                1\n",
       "MEDICAL ASSESSMENT                          1\n",
       "RW PSYCHIATRIC RE-EVALUATION                1\n",
       "CRISIS PER HOUR-S9484                       1\n",
       "BRIEF INTERVENTION                          1\n",
       "Name: type, dtype: int64"
      ]
     },
     "execution_count": 52,
     "metadata": {},
     "output_type": "execute_result"
    }
   ],
   "source": [
    "df.type.value_counts()"
   ]
  },
  {
   "cell_type": "markdown",
   "metadata": {
    "slideshow": {
     "slide_type": "slide"
    }
   },
   "source": [
    "One curiousity going into this probelm was to see how many of No-Shows were during the intake process. Meaning that after the initial over the phone or in person screening the client never showed up for their inital intake or first appointment."
   ]
  },
  {
   "cell_type": "code",
   "execution_count": 53,
   "metadata": {
    "slideshow": {
     "slide_type": "subslide"
    }
   },
   "outputs": [
    {
     "name": "stdout",
     "output_type": "stream",
     "text": [
      "The percentage of No-Show Appointments in comparison to total intakes:  21.436004162330903\n",
      "The percentage of No-Show intakes in comparison to All No-Show Appointments 11.141157382368847\n"
     ]
    }
   ],
   "source": [
    "intake_apps = df[df['type']=='MH INTAKE-90791']\n",
    "intake_total = intake_apps.shape[0]\n",
    "intake_noshows = intake_apps[intake_apps['status']=='No Show'].shape[0]\n",
    "no_show= df[df['status'] == 'No Show'].shape[0]\n",
    "total_apps = df.shape[0]\n",
    "\n",
    "print('The percentage of No-Show Appointments in comparison to total intakes: ',intake_noshows/intake_total*100)\n",
    "print('The percentage of No-Show intakes in comparison to All No-Show Appointments',intake_noshows/no_show*100)"
   ]
  },
  {
   "cell_type": "markdown",
   "metadata": {
    "slideshow": {
     "slide_type": "subslide"
    }
   },
   "source": [
    "The evidence proved that this was not the case, while No-Show intakes did make about 21 percent of all intakes which is a different issue in itself that can understood further during the initial screening process or from gathering information from what is done in between the screening process and time first appointment, No-Show intakes only make up 11 percent of total No-Shows which is a small fraction of the total."
   ]
  },
  {
   "cell_type": "markdown",
   "metadata": {
    "slideshow": {
     "slide_type": "skip"
    }
   },
   "source": [
    "## Feature Engineering\n",
    "Before diving further into this exploratory analysis, some of the features such as time of appointment and age of client have a large variation. It would be more benficial and easier to understand if these features were broken down into smaller bins."
   ]
  },
  {
   "cell_type": "code",
   "execution_count": 54,
   "metadata": {
    "slideshow": {
     "slide_type": "skip"
    }
   },
   "outputs": [],
   "source": [
    "def time_to_int(time):\n",
    "    (h, m, s) = time.split(':')\n",
    "    return int(h) * 3600 + int(m) * 60 + int(s)"
   ]
  },
  {
   "cell_type": "code",
   "execution_count": 55,
   "metadata": {
    "slideshow": {
     "slide_type": "skip"
    }
   },
   "outputs": [],
   "source": [
    "df['time'] = [d.strftime('%H:%M:%S') if not pd.isnull(d) else '' for d in df['time']]\n",
    "df['time2'] = df['time'].apply(time_to_int)\n",
    "df.loc[df['time2'].between(time_to_int('09:00:00'), time_to_int('11:45:00')), 'time_frame'] = 'Morning'\n",
    "df.loc[df['time2'].between(time_to_int('12:00:00'), time_to_int('15:59:00')), 'time_frame'] = 'Afternoon'\n",
    "df['time_frame'].fillna('Evening', inplace=True)"
   ]
  },
  {
   "cell_type": "code",
   "execution_count": 56,
   "metadata": {
    "slideshow": {
     "slide_type": "skip"
    }
   },
   "outputs": [
    {
     "data": {
      "text/html": [
       "<div>\n",
       "<style scoped>\n",
       "    .dataframe tbody tr th:only-of-type {\n",
       "        vertical-align: middle;\n",
       "    }\n",
       "\n",
       "    .dataframe tbody tr th {\n",
       "        vertical-align: top;\n",
       "    }\n",
       "\n",
       "    .dataframe thead th {\n",
       "        text-align: right;\n",
       "    }\n",
       "</style>\n",
       "<table border=\"1\" class=\"dataframe\">\n",
       "  <thead>\n",
       "    <tr style=\"text-align: right;\">\n",
       "      <th></th>\n",
       "      <th>account</th>\n",
       "      <th>confirm</th>\n",
       "      <th>status</th>\n",
       "      <th>date</th>\n",
       "      <th>time</th>\n",
       "      <th>city</th>\n",
       "      <th>sex</th>\n",
       "      <th>type</th>\n",
       "      <th>therapist</th>\n",
       "      <th>age</th>\n",
       "      <th>day_of_week</th>\n",
       "      <th>time_frame</th>\n",
       "    </tr>\n",
       "  </thead>\n",
       "  <tbody>\n",
       "    <tr>\n",
       "      <th>17260</th>\n",
       "      <td>116597</td>\n",
       "      <td>N</td>\n",
       "      <td>No Show</td>\n",
       "      <td>2019-06-24</td>\n",
       "      <td>09:00:00</td>\n",
       "      <td>MINEOLA</td>\n",
       "      <td>F</td>\n",
       "      <td>MH INTAKE-90791</td>\n",
       "      <td>therapist_9</td>\n",
       "      <td>12</td>\n",
       "      <td>0</td>\n",
       "      <td>Morning</td>\n",
       "    </tr>\n",
       "    <tr>\n",
       "      <th>17261</th>\n",
       "      <td>116598</td>\n",
       "      <td>Y</td>\n",
       "      <td>Seen/Billed</td>\n",
       "      <td>2019-06-27</td>\n",
       "      <td>10:00:00</td>\n",
       "      <td>MERRICK</td>\n",
       "      <td>M</td>\n",
       "      <td>MH INTAKE-90791</td>\n",
       "      <td>therapist_17</td>\n",
       "      <td>12</td>\n",
       "      <td>3</td>\n",
       "      <td>Morning</td>\n",
       "    </tr>\n",
       "    <tr>\n",
       "      <th>17262</th>\n",
       "      <td>116604</td>\n",
       "      <td>N</td>\n",
       "      <td>Seen/Billed</td>\n",
       "      <td>2019-06-26</td>\n",
       "      <td>12:00:00</td>\n",
       "      <td>FREEPORT</td>\n",
       "      <td>F</td>\n",
       "      <td>MH INTAKE-90791</td>\n",
       "      <td>therapist_7</td>\n",
       "      <td>23</td>\n",
       "      <td>2</td>\n",
       "      <td>Afternoon</td>\n",
       "    </tr>\n",
       "    <tr>\n",
       "      <th>17263</th>\n",
       "      <td>116605</td>\n",
       "      <td>N</td>\n",
       "      <td>Cancelled</td>\n",
       "      <td>2019-06-26</td>\n",
       "      <td>12:00:00</td>\n",
       "      <td>FRANKLIN SQUARE</td>\n",
       "      <td>M</td>\n",
       "      <td>MH INTAKE-90791</td>\n",
       "      <td>therapist_2</td>\n",
       "      <td>6</td>\n",
       "      <td>2</td>\n",
       "      <td>Afternoon</td>\n",
       "    </tr>\n",
       "    <tr>\n",
       "      <th>17264</th>\n",
       "      <td>116634</td>\n",
       "      <td>Y</td>\n",
       "      <td>Seen/Billed</td>\n",
       "      <td>2019-06-28</td>\n",
       "      <td>11:00:00</td>\n",
       "      <td>EAST ROCKAWAY</td>\n",
       "      <td>F</td>\n",
       "      <td>MH INTAKE-90791</td>\n",
       "      <td>therapist_22</td>\n",
       "      <td>14</td>\n",
       "      <td>4</td>\n",
       "      <td>Morning</td>\n",
       "    </tr>\n",
       "  </tbody>\n",
       "</table>\n",
       "</div>"
      ],
      "text/plain": [
       "       account confirm       status       date      time             city sex  \\\n",
       "17260   116597       N      No Show 2019-06-24  09:00:00          MINEOLA   F   \n",
       "17261   116598       Y  Seen/Billed 2019-06-27  10:00:00          MERRICK   M   \n",
       "17262   116604       N  Seen/Billed 2019-06-26  12:00:00         FREEPORT   F   \n",
       "17263   116605       N    Cancelled 2019-06-26  12:00:00  FRANKLIN SQUARE   M   \n",
       "17264   116634       Y  Seen/Billed 2019-06-28  11:00:00    EAST ROCKAWAY   F   \n",
       "\n",
       "                  type     therapist  age  day_of_week time_frame  \n",
       "17260  MH INTAKE-90791   therapist_9   12            0    Morning  \n",
       "17261  MH INTAKE-90791  therapist_17   12            3    Morning  \n",
       "17262  MH INTAKE-90791   therapist_7   23            2  Afternoon  \n",
       "17263  MH INTAKE-90791   therapist_2    6            2  Afternoon  \n",
       "17264  MH INTAKE-90791  therapist_22   14            4    Morning  "
      ]
     },
     "execution_count": 56,
     "metadata": {},
     "output_type": "execute_result"
    }
   ],
   "source": [
    "df.drop('time2',axis=1,inplace=True)\n",
    "df.tail()"
   ]
  },
  {
   "cell_type": "code",
   "execution_count": 57,
   "metadata": {
    "slideshow": {
     "slide_type": "skip"
    }
   },
   "outputs": [],
   "source": [
    "def age_range(feature):\n",
    "    if feature < 18:\n",
    "        return 'Minor'\n",
    "    elif (feature > 18 and feature <=27):\n",
    "        return 'Early Adult'\n",
    "    elif (feature >27 and feature <=37):\n",
    "        return 'Adult'\n",
    "    elif (feature >= 38 and feature <50):\n",
    "         return 'Middle Age Adult'\n",
    "    else:\n",
    "        return 'Elder'"
   ]
  },
  {
   "cell_type": "code",
   "execution_count": 58,
   "metadata": {
    "slideshow": {
     "slide_type": "skip"
    }
   },
   "outputs": [],
   "source": [
    "df['age_range'] = df['age'].apply(age_range)\n",
    "df['month'] = df['date'].apply(lambda x: x.month)"
   ]
  },
  {
   "cell_type": "code",
   "execution_count": 59,
   "metadata": {
    "slideshow": {
     "slide_type": "skip"
    }
   },
   "outputs": [
    {
     "data": {
      "text/html": [
       "<div>\n",
       "<style scoped>\n",
       "    .dataframe tbody tr th:only-of-type {\n",
       "        vertical-align: middle;\n",
       "    }\n",
       "\n",
       "    .dataframe tbody tr th {\n",
       "        vertical-align: top;\n",
       "    }\n",
       "\n",
       "    .dataframe thead th {\n",
       "        text-align: right;\n",
       "    }\n",
       "</style>\n",
       "<table border=\"1\" class=\"dataframe\">\n",
       "  <thead>\n",
       "    <tr style=\"text-align: right;\">\n",
       "      <th></th>\n",
       "      <th>account</th>\n",
       "      <th>confirm</th>\n",
       "      <th>status</th>\n",
       "      <th>date</th>\n",
       "      <th>time</th>\n",
       "      <th>city</th>\n",
       "      <th>sex</th>\n",
       "      <th>type</th>\n",
       "      <th>therapist</th>\n",
       "      <th>age</th>\n",
       "      <th>day_of_week</th>\n",
       "      <th>time_frame</th>\n",
       "      <th>age_range</th>\n",
       "      <th>month</th>\n",
       "    </tr>\n",
       "  </thead>\n",
       "  <tbody>\n",
       "    <tr>\n",
       "      <th>0</th>\n",
       "      <td>100017</td>\n",
       "      <td>N</td>\n",
       "      <td>No Show</td>\n",
       "      <td>2019-01-28</td>\n",
       "      <td>14:00:00</td>\n",
       "      <td>HEMPSTEAD</td>\n",
       "      <td>M</td>\n",
       "      <td>MH INTAKE-90791</td>\n",
       "      <td>therapist_23</td>\n",
       "      <td>59</td>\n",
       "      <td>0</td>\n",
       "      <td>Afternoon</td>\n",
       "      <td>Elder</td>\n",
       "      <td>1</td>\n",
       "    </tr>\n",
       "    <tr>\n",
       "      <th>1</th>\n",
       "      <td>100072</td>\n",
       "      <td>Y</td>\n",
       "      <td>Seen/Billed</td>\n",
       "      <td>2019-01-04</td>\n",
       "      <td>15:30:00</td>\n",
       "      <td>UNIONDALE</td>\n",
       "      <td>F</td>\n",
       "      <td>MH IND 30MIN-90832</td>\n",
       "      <td>therapist_20</td>\n",
       "      <td>60</td>\n",
       "      <td>4</td>\n",
       "      <td>Afternoon</td>\n",
       "      <td>Elder</td>\n",
       "      <td>1</td>\n",
       "    </tr>\n",
       "    <tr>\n",
       "      <th>2</th>\n",
       "      <td>100072</td>\n",
       "      <td>Y</td>\n",
       "      <td>Seen/Billed</td>\n",
       "      <td>2019-01-07</td>\n",
       "      <td>15:00:00</td>\n",
       "      <td>UNIONDALE</td>\n",
       "      <td>F</td>\n",
       "      <td>MH PSY FOLLOW UP 15MIN-99213</td>\n",
       "      <td>therapist_25</td>\n",
       "      <td>60</td>\n",
       "      <td>0</td>\n",
       "      <td>Afternoon</td>\n",
       "      <td>Elder</td>\n",
       "      <td>1</td>\n",
       "    </tr>\n",
       "    <tr>\n",
       "      <th>3</th>\n",
       "      <td>100072</td>\n",
       "      <td>N</td>\n",
       "      <td>Seen/Billed</td>\n",
       "      <td>2019-01-11</td>\n",
       "      <td>15:30:00</td>\n",
       "      <td>UNIONDALE</td>\n",
       "      <td>F</td>\n",
       "      <td>MH IND 30MIN-90832</td>\n",
       "      <td>therapist_20</td>\n",
       "      <td>60</td>\n",
       "      <td>4</td>\n",
       "      <td>Afternoon</td>\n",
       "      <td>Elder</td>\n",
       "      <td>1</td>\n",
       "    </tr>\n",
       "    <tr>\n",
       "      <th>4</th>\n",
       "      <td>100072</td>\n",
       "      <td>Y</td>\n",
       "      <td>Seen/Billed</td>\n",
       "      <td>2019-01-17</td>\n",
       "      <td>15:00:00</td>\n",
       "      <td>UNIONDALE</td>\n",
       "      <td>F</td>\n",
       "      <td>MH FAMILY W/PT 60MIN-90847</td>\n",
       "      <td>therapist_20</td>\n",
       "      <td>60</td>\n",
       "      <td>3</td>\n",
       "      <td>Afternoon</td>\n",
       "      <td>Elder</td>\n",
       "      <td>1</td>\n",
       "    </tr>\n",
       "  </tbody>\n",
       "</table>\n",
       "</div>"
      ],
      "text/plain": [
       "   account confirm       status       date      time       city sex  \\\n",
       "0   100017       N      No Show 2019-01-28  14:00:00  HEMPSTEAD   M   \n",
       "1   100072       Y  Seen/Billed 2019-01-04  15:30:00  UNIONDALE   F   \n",
       "2   100072       Y  Seen/Billed 2019-01-07  15:00:00  UNIONDALE   F   \n",
       "3   100072       N  Seen/Billed 2019-01-11  15:30:00  UNIONDALE   F   \n",
       "4   100072       Y  Seen/Billed 2019-01-17  15:00:00  UNIONDALE   F   \n",
       "\n",
       "                           type     therapist  age  day_of_week time_frame  \\\n",
       "0               MH INTAKE-90791  therapist_23   59            0  Afternoon   \n",
       "1            MH IND 30MIN-90832  therapist_20   60            4  Afternoon   \n",
       "2  MH PSY FOLLOW UP 15MIN-99213  therapist_25   60            0  Afternoon   \n",
       "3            MH IND 30MIN-90832  therapist_20   60            4  Afternoon   \n",
       "4    MH FAMILY W/PT 60MIN-90847  therapist_20   60            3  Afternoon   \n",
       "\n",
       "  age_range  month  \n",
       "0     Elder      1  \n",
       "1     Elder      1  \n",
       "2     Elder      1  \n",
       "3     Elder      1  \n",
       "4     Elder      1  "
      ]
     },
     "execution_count": 59,
     "metadata": {},
     "output_type": "execute_result"
    }
   ],
   "source": [
    "df.head()"
   ]
  },
  {
   "cell_type": "markdown",
   "metadata": {
    "slideshow": {
     "slide_type": "slide"
    }
   },
   "source": [
    "## No Show Exploratory Data Analysis\n",
    "To better analyze the No-Show Appointments, I took a fragement off the full dataset, containing only the appointments who's status was No-Show which prompted some serious findings."
   ]
  },
  {
   "cell_type": "code",
   "execution_count": 60,
   "metadata": {
    "slideshow": {
     "slide_type": "subslide"
    }
   },
   "outputs": [
    {
     "data": {
      "text/plain": [
       "Text(0.5, 1.0, 'No Show Frequency Based on Appointment Type')"
      ]
     },
     "execution_count": 60,
     "metadata": {},
     "output_type": "execute_result"
    },
    {
     "data": {
      "image/png": "[encoded data removed]",
      "text/plain": [
       "<Figure size 432x288 with 1 Axes>"
      ]
     },
     "metadata": {},
     "output_type": "display_data"
    }
   ],
   "source": [
    "# Matplotlib for visualization\n",
    "from matplotlib import pyplot as plt\n",
    "# display plots in the notebook\n",
    "%matplotlib inline \n",
    "\n",
    "# Seaborn for easier visualization\n",
    "import seaborn as sns\n",
    "sns.set_style('darkgrid')\n",
    "\n",
    "no_show_df= df[df['status'] == 'No Show']\n",
    "ns_type = no_show_df.sort_values('type',ascending=False)\n",
    "sns.countplot(y=ns_type.type,data=ns_type).set_title('No Show Frequency Based on Appointment Type')"
   ]
  },
  {
   "cell_type": "code",
   "execution_count": 61,
   "metadata": {
    "slideshow": {
     "slide_type": "subslide"
    }
   },
   "outputs": [
    {
     "name": "stdout",
     "output_type": "stream",
     "text": [
      "MH IND 30MIN-90832                       66.485900\n",
      "MH PSY FOLLOW UP 15MIN-99213             12.418655\n",
      "MH INTAKE-90791                          11.171367\n",
      "MH PSY EVAL-90792                         2.711497\n",
      "MH IND 45MIN-90834                        2.386117\n",
      "MH GROUP 90853                            2.060738\n",
      "MH FAMILY W/PT 60MIN-90847                1.898048\n",
      "MH FAMILY W/O PT 30MIN-90846              0.379610\n",
      "MH PSYCHIATRIC RE-EVALUATION (UPDATE)     0.325380\n",
      "MH FOLLOW UP INTAKE                       0.054230\n",
      "MH IND 60MIN-90837                        0.054230\n",
      "RW PSYCHIATRIC RE-EVALUATION              0.054230\n",
      "Name: type, dtype: float64\n"
     ]
    }
   ],
   "source": [
    "print(no_show_df.type.value_counts(normalize=True)*100)"
   ]
  },
  {
   "cell_type": "markdown",
   "metadata": {
    "slideshow": {
     "slide_type": "subslide"
    }
   },
   "source": [
    "Almost 70 percent of all of the No-Shows during the past six months have been during indivudal 30 minute appointments, while those are the most common, it is a good indicator on which appointment types we need to put the most focus to."
   ]
  },
  {
   "cell_type": "markdown",
   "metadata": {
    "slideshow": {
     "slide_type": "subslide"
    }
   },
   "source": [
    "To gain a better understanding of whats going on behind the scenes, I generated a few bar charts and a pivot table to show the frequencies among, time of day,day of week and age range. The vast majority of all clients(no-show,seen/billed,etc) are located in hempstead, making it an minimal factor in this analysis."
   ]
  },
  {
   "cell_type": "code",
   "execution_count": 62,
   "metadata": {
    "slideshow": {
     "slide_type": "subslide"
    }
   },
   "outputs": [
    {
     "data": {
      "text/plain": [
       "<matplotlib.axes._subplots.AxesSubplot at 0x23111dc34e0>"
      ]
     },
     "execution_count": 62,
     "metadata": {},
     "output_type": "execute_result"
    },
    {
     "data": {
      "image/png": "[encoded data removed]",
      "text/plain": [
       "<Figure size 432x288 with 1 Axes>"
      ]
     },
     "metadata": {
      "needs_background": "light"
     },
     "output_type": "display_data"
    }
   ],
   "source": [
    "no_show_df.groupby('age_range').size().plot(kind='bar')"
   ]
  },
  {
   "cell_type": "code",
   "execution_count": 63,
   "metadata": {
    "slideshow": {
     "slide_type": "subslide"
    }
   },
   "outputs": [
    {
     "data": {
      "text/plain": [
       "<matplotlib.axes._subplots.AxesSubplot at 0x23111e12198>"
      ]
     },
     "execution_count": 63,
     "metadata": {},
     "output_type": "execute_result"
    },
    {
     "data": {
      "image/png": "[encoded data removed]",
      "text/plain": [
       "<Figure size 432x288 with 1 Axes>"
      ]
     },
     "metadata": {
      "needs_background": "light"
     },
     "output_type": "display_data"
    }
   ],
   "source": [
    "no_show_df.groupby('time_frame').size().plot(kind='bar')"
   ]
  },
  {
   "cell_type": "code",
   "execution_count": 64,
   "metadata": {
    "slideshow": {
     "slide_type": "subslide"
    }
   },
   "outputs": [
    {
     "data": {
      "text/html": [
       "<div>\n",
       "<style scoped>\n",
       "    .dataframe tbody tr th:only-of-type {\n",
       "        vertical-align: middle;\n",
       "    }\n",
       "\n",
       "    .dataframe tbody tr th {\n",
       "        vertical-align: top;\n",
       "    }\n",
       "\n",
       "    .dataframe thead th {\n",
       "        text-align: right;\n",
       "    }\n",
       "</style>\n",
       "<table border=\"1\" class=\"dataframe\">\n",
       "  <thead>\n",
       "    <tr style=\"text-align: right;\">\n",
       "      <th>day_of_week</th>\n",
       "      <th>0</th>\n",
       "      <th>1</th>\n",
       "      <th>2</th>\n",
       "      <th>3</th>\n",
       "      <th>4</th>\n",
       "      <th>5</th>\n",
       "    </tr>\n",
       "    <tr>\n",
       "      <th>time_frame</th>\n",
       "      <th></th>\n",
       "      <th></th>\n",
       "      <th></th>\n",
       "      <th></th>\n",
       "      <th></th>\n",
       "      <th></th>\n",
       "    </tr>\n",
       "  </thead>\n",
       "  <tbody>\n",
       "    <tr>\n",
       "      <th>Afternoon</th>\n",
       "      <td>164</td>\n",
       "      <td>91</td>\n",
       "      <td>184</td>\n",
       "      <td>113</td>\n",
       "      <td>54</td>\n",
       "      <td>23</td>\n",
       "    </tr>\n",
       "    <tr>\n",
       "      <th>Evening</th>\n",
       "      <td>202</td>\n",
       "      <td>212</td>\n",
       "      <td>142</td>\n",
       "      <td>175</td>\n",
       "      <td>0</td>\n",
       "      <td>0</td>\n",
       "    </tr>\n",
       "    <tr>\n",
       "      <th>Morning</th>\n",
       "      <td>100</td>\n",
       "      <td>89</td>\n",
       "      <td>118</td>\n",
       "      <td>36</td>\n",
       "      <td>117</td>\n",
       "      <td>29</td>\n",
       "    </tr>\n",
       "  </tbody>\n",
       "</table>\n",
       "</div>"
      ],
      "text/plain": [
       "day_of_week    0    1    2    3    4   5\n",
       "time_frame                              \n",
       "Afternoon    164   91  184  113   54  23\n",
       "Evening      202  212  142  175    0   0\n",
       "Morning      100   89  118   36  117  29"
      ]
     },
     "execution_count": 64,
     "metadata": {},
     "output_type": "execute_result"
    }
   ],
   "source": [
    "no_show_df.pivot_table(index=['time_frame'],columns=['day_of_week'],aggfunc='size',fill_value=0)"
   ]
  },
  {
   "cell_type": "code",
   "execution_count": 65,
   "metadata": {
    "slideshow": {
     "slide_type": "skip"
    }
   },
   "outputs": [
    {
     "data": {
      "text/plain": [
       "<matplotlib.axes._subplots.AxesSubplot at 0x2311217d198>"
      ]
     },
     "execution_count": 65,
     "metadata": {},
     "output_type": "execute_result"
    },
    {
     "data": {
      "image/png": "[encoded data removed]",
      "text/plain": [
       "<Figure size 432x288 with 1 Axes>"
      ]
     },
     "metadata": {
      "needs_background": "light"
     },
     "output_type": "display_data"
    }
   ],
   "source": [
    "no_show_df.groupby('confirm').size().plot(kind='bar')"
   ]
  },
  {
   "cell_type": "code",
   "execution_count": 66,
   "metadata": {
    "slideshow": {
     "slide_type": "skip"
    }
   },
   "outputs": [
    {
     "data": {
      "text/plain": [
       "N    1054\n",
       "Y     795\n",
       "Name: confirm, dtype: int64"
      ]
     },
     "execution_count": 66,
     "metadata": {},
     "output_type": "execute_result"
    }
   ],
   "source": [
    "no_show_df.confirm.value_counts()"
   ]
  },
  {
   "cell_type": "code",
   "execution_count": 67,
   "metadata": {
    "slideshow": {
     "slide_type": "skip"
    }
   },
   "outputs": [
    {
     "data": {
      "text/plain": [
       "<matplotlib.axes._subplots.AxesSubplot at 0x23111da4518>"
      ]
     },
     "execution_count": 67,
     "metadata": {},
     "output_type": "execute_result"
    },
    {
     "data": {
      "image/png": "[encoded data removed]",
      "text/plain": [
       "<Figure size 432x288 with 1 Axes>"
      ]
     },
     "metadata": {
      "needs_background": "light"
     },
     "output_type": "display_data"
    }
   ],
   "source": [
    "seen_billed = df[df.status=='Seen/Billed']\n",
    "seen_billed.groupby('confirm').size().plot(kind='bar')"
   ]
  },
  {
   "cell_type": "code",
   "execution_count": 68,
   "metadata": {
    "slideshow": {
     "slide_type": "skip"
    }
   },
   "outputs": [
    {
     "data": {
      "text/plain": [
       "Y    6702\n",
       "N    2985\n",
       "Name: confirm, dtype: int64"
      ]
     },
     "execution_count": 68,
     "metadata": {},
     "output_type": "execute_result"
    }
   ],
   "source": [
    "seen_billed.confirm.value_counts()"
   ]
  },
  {
   "cell_type": "markdown",
   "metadata": {
    "slideshow": {
     "slide_type": "slide"
    }
   },
   "source": [
    "Here we take a look at the frequency of the therapist/provider of the clients of all the No-Show appointments. The frequency varies dramtacially which will require further analysis to understand the actual percentage of the therapist No-Show appointments in comparison to all their appointments. With that being said there are a few therapist who stand out, showing up dramatically more frequently then others. Those therapist we should look into further first. "
   ]
  },
  {
   "cell_type": "code",
   "execution_count": 69,
   "metadata": {
    "slideshow": {
     "slide_type": "subslide"
    }
   },
   "outputs": [
    {
     "data": {
      "text/plain": [
       "Text(0.5, 1.0, 'Therapist No Show Frequency')"
      ]
     },
     "execution_count": 69,
     "metadata": {},
     "output_type": "execute_result"
    },
    {
     "data": {
      "image/png": "[encoded data removed]",
      "text/plain": [
       "<Figure size 432x288 with 1 Axes>"
      ]
     },
     "metadata": {
      "needs_background": "light"
     },
     "output_type": "display_data"
    }
   ],
   "source": [
    "ns_therapist = no_show_df.sort_values('therapist',ascending=True)\n",
    "sns.countplot(y=ns_therapist.therapist,data=ns_therapist).set_title('Therapist No Show Frequency')"
   ]
  },
  {
   "cell_type": "code",
   "execution_count": 70,
   "metadata": {
    "slideshow": {
     "slide_type": "subslide"
    }
   },
   "outputs": [
    {
     "data": {
      "text/plain": [
       "therapist_9     227\n",
       "therapist_23    210\n",
       "therapist_8     175\n",
       "therapist_22    159\n",
       "therapist_20    146\n",
       "therapist_19    134\n",
       "therapist_7     134\n",
       "therapist_17    130\n",
       "therapist_13    109\n",
       "therapist_0     101\n",
       "therapist_14     91\n",
       "therapist_2      78\n",
       "therapist_25     44\n",
       "therapist_11     35\n",
       "therapist_10     19\n",
       "therapist_16     18\n",
       "therapist_24     16\n",
       "therapist_6       6\n",
       "therapist_18      5\n",
       "therapist_15      5\n",
       "therapist_1       2\n",
       "therapist_3       2\n",
       "therapist_12      2\n",
       "therapist_4       1\n",
       "Name: therapist, dtype: int64"
      ]
     },
     "execution_count": 70,
     "metadata": {},
     "output_type": "execute_result"
    }
   ],
   "source": [
    "no_show_df.therapist.value_counts()"
   ]
  },
  {
   "cell_type": "code",
   "execution_count": 72,
   "metadata": {
    "slideshow": {
     "slide_type": "subslide"
    }
   },
   "outputs": [
    {
     "name": "stdout",
     "output_type": "stream",
     "text": [
      "Seen/Billed        57.705479\n",
      "No Show            19.434932\n",
      "Cancelled          17.722603\n",
      "Not Seen/Billed     3.681507\n",
      "Rescheduled         1.027397\n",
      "Late Cancelled      0.428082\n",
      "Name: status, dtype: float64\n"
     ]
    }
   ],
   "source": [
    "therapist_9 = df[df.therapist == 'therapist_9']\n",
    "print(therapist_9.status.value_counts(normalize=True)*100)"
   ]
  },
  {
   "cell_type": "code",
   "execution_count": 73,
   "metadata": {
    "slideshow": {
     "slide_type": "subslide"
    }
   },
   "outputs": [
    {
     "name": "stdout",
     "output_type": "stream",
     "text": [
      "Seen/Billed        58.141674\n",
      "No Show            19.319227\n",
      "Cancelled          17.571297\n",
      "Not Seen/Billed     2.667893\n",
      "Rescheduled         2.023919\n",
      "Late Cancelled      0.275989\n",
      "Name: status, dtype: float64\n"
     ]
    }
   ],
   "source": [
    "therapist_23 = df[df.therapist =='therapist_23']\n",
    "print(therapist_23.status.value_counts(normalize=True)*100)"
   ]
  },
  {
   "cell_type": "markdown",
   "metadata": {
    "slideshow": {
     "slide_type": "subslide"
    }
   },
   "source": [
    "Here we realize that the two most frequently seen...or not seen therapist in No-Show appointments actually have No-Shows to around 20 percent of all their appointments. Indicating their might be some underlying details there that needed to be further analyzed in comparison to the other therapist"
   ]
  },
  {
   "cell_type": "code",
   "execution_count": 76,
   "metadata": {
    "slideshow": {
     "slide_type": "skip"
    }
   },
   "outputs": [
    {
     "data": {
      "text/plain": [
       "array(['No Show', 'Seen/Billed', 'Other'], dtype=object)"
      ]
     },
     "execution_count": 76,
     "metadata": {},
     "output_type": "execute_result"
    }
   ],
   "source": [
    "df.status.unique()"
   ]
  },
  {
   "cell_type": "code",
   "execution_count": 77,
   "metadata": {
    "slideshow": {
     "slide_type": "skip"
    }
   },
   "outputs": [],
   "source": [
    "df.status = df.status.str.replace('Rescheduled','Other')\n",
    "df.status = df.status.str.replace('Cancelled','Other')\n",
    "df.status = df.status.str.replace('Late Cancelled','No Show')\n",
    "df.status = df.status.str.replace('Not Seen/Billed','Other')\n",
    "df.status = df.status.str.replace('Admin Hold','Other')\n",
    "df.status = df.status.str.replace('Late Other','Other')"
   ]
  },
  {
   "cell_type": "markdown",
   "metadata": {
    "slideshow": {
     "slide_type": "slide"
    }
   },
   "source": [
    "(I changed rescheduled,cancelled,later other and admin hold status of appointment to other as they were all a type of missed appointment that didnt cost the agency money)\n",
    "\n",
    "Because most of the clients are reoccuring, I thought it would be beneficial to collect all of their information per account and gather up total of each appointment status as well as total and calculate their percentage."
   ]
  },
  {
   "cell_type": "code",
   "execution_count": 78,
   "metadata": {
    "slideshow": {
     "slide_type": "subslide"
    }
   },
   "outputs": [
    {
     "data": {
      "text/html": [
       "<div>\n",
       "<style scoped>\n",
       "    .dataframe tbody tr th:only-of-type {\n",
       "        vertical-align: middle;\n",
       "    }\n",
       "\n",
       "    .dataframe tbody tr th {\n",
       "        vertical-align: top;\n",
       "    }\n",
       "\n",
       "    .dataframe thead th {\n",
       "        text-align: right;\n",
       "    }\n",
       "</style>\n",
       "<table border=\"1\" class=\"dataframe\">\n",
       "  <thead>\n",
       "    <tr style=\"text-align: right;\">\n",
       "      <th>status</th>\n",
       "      <th>account</th>\n",
       "      <th>No Show</th>\n",
       "      <th>Other</th>\n",
       "      <th>Seen/Billed</th>\n",
       "      <th>Total</th>\n",
       "      <th>Seen/Billed %</th>\n",
       "      <th>Other %</th>\n",
       "      <th>No Show %</th>\n",
       "    </tr>\n",
       "  </thead>\n",
       "  <tbody>\n",
       "    <tr>\n",
       "      <th>1098</th>\n",
       "      <td>115760</td>\n",
       "      <td>11</td>\n",
       "      <td>2</td>\n",
       "      <td>11</td>\n",
       "      <td>24</td>\n",
       "      <td>45.833333</td>\n",
       "      <td>8.333333</td>\n",
       "      <td>45.833333</td>\n",
       "    </tr>\n",
       "    <tr>\n",
       "      <th>622</th>\n",
       "      <td>114495</td>\n",
       "      <td>10</td>\n",
       "      <td>6</td>\n",
       "      <td>11</td>\n",
       "      <td>27</td>\n",
       "      <td>40.740741</td>\n",
       "      <td>22.222222</td>\n",
       "      <td>37.037037</td>\n",
       "    </tr>\n",
       "    <tr>\n",
       "      <th>623</th>\n",
       "      <td>114499</td>\n",
       "      <td>10</td>\n",
       "      <td>8</td>\n",
       "      <td>11</td>\n",
       "      <td>29</td>\n",
       "      <td>37.931034</td>\n",
       "      <td>27.586207</td>\n",
       "      <td>34.482759</td>\n",
       "    </tr>\n",
       "    <tr>\n",
       "      <th>33</th>\n",
       "      <td>100927</td>\n",
       "      <td>10</td>\n",
       "      <td>9</td>\n",
       "      <td>22</td>\n",
       "      <td>41</td>\n",
       "      <td>53.658537</td>\n",
       "      <td>21.951220</td>\n",
       "      <td>24.390244</td>\n",
       "    </tr>\n",
       "    <tr>\n",
       "      <th>305</th>\n",
       "      <td>111312</td>\n",
       "      <td>10</td>\n",
       "      <td>5</td>\n",
       "      <td>16</td>\n",
       "      <td>31</td>\n",
       "      <td>51.612903</td>\n",
       "      <td>16.129032</td>\n",
       "      <td>32.258065</td>\n",
       "    </tr>\n",
       "  </tbody>\n",
       "</table>\n",
       "</div>"
      ],
      "text/plain": [
       "status  account  No Show  Other  Seen/Billed  Total  Seen/Billed %    Other %  \\\n",
       "1098     115760       11      2           11     24      45.833333   8.333333   \n",
       "622      114495       10      6           11     27      40.740741  22.222222   \n",
       "623      114499       10      8           11     29      37.931034  27.586207   \n",
       "33       100927       10      9           22     41      53.658537  21.951220   \n",
       "305      111312       10      5           16     31      51.612903  16.129032   \n",
       "\n",
       "status  No Show %  \n",
       "1098    45.833333  \n",
       "622     37.037037  \n",
       "623     34.482759  \n",
       "33      24.390244  \n",
       "305     32.258065  "
      ]
     },
     "execution_count": 78,
     "metadata": {},
     "output_type": "execute_result"
    }
   ],
   "source": [
    "clients = df.pivot_table(index=['account'], columns='status', \n",
    "                        aggfunc='size', fill_value=0)\n",
    "clients['Total'] = clients['No Show']+clients['Other']+clients['Seen/Billed']\n",
    "clients['Seen/Billed %'] = clients['Seen/Billed']/clients['Total']*100\n",
    "clients['Other %'] = clients['Other']/clients['Total']*100\n",
    "clients['No Show %'] = clients['No Show']/clients['Total']*100\n",
    "clients = clients.reset_index()\n",
    "clients.sort_values('No Show',ascending=False).head()"
   ]
  },
  {
   "cell_type": "code",
   "execution_count": 79,
   "metadata": {
    "slideshow": {
     "slide_type": "subslide"
    }
   },
   "outputs": [
    {
     "name": "stdout",
     "output_type": "stream",
     "text": [
      "Amount of clients who have missed 3 or more appointments:  243\n",
      "Amount of clients who have missed 5 or more appointments:  70\n"
     ]
    }
   ],
   "source": [
    "print('Amount of clients who have missed 3 or more appointments: ',clients[clients['No Show'] >= 3].shape[0])\n",
    "print('Amount of clients who have missed 5 or more appointments: ',clients[clients['No Show'] >= 5].shape[0])"
   ]
  },
  {
   "cell_type": "code",
   "execution_count": 87,
   "metadata": {
    "slideshow": {
     "slide_type": "subslide"
    }
   },
   "outputs": [
    {
     "data": {
      "text/html": [
       "<div>\n",
       "<style scoped>\n",
       "    .dataframe tbody tr th:only-of-type {\n",
       "        vertical-align: middle;\n",
       "    }\n",
       "\n",
       "    .dataframe tbody tr th {\n",
       "        vertical-align: top;\n",
       "    }\n",
       "\n",
       "    .dataframe thead th {\n",
       "        text-align: right;\n",
       "    }\n",
       "</style>\n",
       "<table border=\"1\" class=\"dataframe\">\n",
       "  <thead>\n",
       "    <tr style=\"text-align: right;\">\n",
       "      <th>status</th>\n",
       "      <th>account</th>\n",
       "      <th>No Show</th>\n",
       "      <th>Other</th>\n",
       "      <th>Seen/Billed</th>\n",
       "      <th>Total</th>\n",
       "      <th>Seen/Billed %</th>\n",
       "      <th>Other %</th>\n",
       "      <th>No Show %</th>\n",
       "    </tr>\n",
       "  </thead>\n",
       "  <tbody>\n",
       "    <tr>\n",
       "      <th>count</th>\n",
       "      <td>1609.000000</td>\n",
       "      <td>1609.000000</td>\n",
       "      <td>1609.000000</td>\n",
       "      <td>1609.000000</td>\n",
       "      <td>1609.000000</td>\n",
       "      <td>1609.000000</td>\n",
       "      <td>1609.000000</td>\n",
       "      <td>1609.000000</td>\n",
       "    </tr>\n",
       "    <tr>\n",
       "      <th>mean</th>\n",
       "      <td>113595.334991</td>\n",
       "      <td>1.149161</td>\n",
       "      <td>2.633313</td>\n",
       "      <td>6.020510</td>\n",
       "      <td>9.802983</td>\n",
       "      <td>48.582394</td>\n",
       "      <td>33.219146</td>\n",
       "      <td>18.198461</td>\n",
       "    </tr>\n",
       "    <tr>\n",
       "      <th>std</th>\n",
       "      <td>3634.916592</td>\n",
       "      <td>1.561389</td>\n",
       "      <td>2.682129</td>\n",
       "      <td>6.190404</td>\n",
       "      <td>8.676272</td>\n",
       "      <td>32.585913</td>\n",
       "      <td>30.048895</td>\n",
       "      <td>28.535173</td>\n",
       "    </tr>\n",
       "    <tr>\n",
       "      <th>min</th>\n",
       "      <td>100017.000000</td>\n",
       "      <td>0.000000</td>\n",
       "      <td>0.000000</td>\n",
       "      <td>0.000000</td>\n",
       "      <td>1.000000</td>\n",
       "      <td>0.000000</td>\n",
       "      <td>0.000000</td>\n",
       "      <td>0.000000</td>\n",
       "    </tr>\n",
       "    <tr>\n",
       "      <th>25%</th>\n",
       "      <td>112712.000000</td>\n",
       "      <td>0.000000</td>\n",
       "      <td>1.000000</td>\n",
       "      <td>1.000000</td>\n",
       "      <td>2.000000</td>\n",
       "      <td>21.428571</td>\n",
       "      <td>11.764706</td>\n",
       "      <td>0.000000</td>\n",
       "    </tr>\n",
       "    <tr>\n",
       "      <th>50%</th>\n",
       "      <td>115167.000000</td>\n",
       "      <td>1.000000</td>\n",
       "      <td>2.000000</td>\n",
       "      <td>4.000000</td>\n",
       "      <td>7.000000</td>\n",
       "      <td>55.000000</td>\n",
       "      <td>26.666667</td>\n",
       "      <td>5.882353</td>\n",
       "    </tr>\n",
       "    <tr>\n",
       "      <th>75%</th>\n",
       "      <td>115909.000000</td>\n",
       "      <td>2.000000</td>\n",
       "      <td>4.000000</td>\n",
       "      <td>10.000000</td>\n",
       "      <td>16.000000</td>\n",
       "      <td>73.333333</td>\n",
       "      <td>45.454545</td>\n",
       "      <td>23.076923</td>\n",
       "    </tr>\n",
       "    <tr>\n",
       "      <th>max</th>\n",
       "      <td>116634.000000</td>\n",
       "      <td>11.000000</td>\n",
       "      <td>21.000000</td>\n",
       "      <td>32.000000</td>\n",
       "      <td>50.000000</td>\n",
       "      <td>100.000000</td>\n",
       "      <td>100.000000</td>\n",
       "      <td>100.000000</td>\n",
       "    </tr>\n",
       "  </tbody>\n",
       "</table>\n",
       "</div>"
      ],
      "text/plain": [
       "status        account      No Show        Other  Seen/Billed        Total  \\\n",
       "count     1609.000000  1609.000000  1609.000000  1609.000000  1609.000000   \n",
       "mean    113595.334991     1.149161     2.633313     6.020510     9.802983   \n",
       "std       3634.916592     1.561389     2.682129     6.190404     8.676272   \n",
       "min     100017.000000     0.000000     0.000000     0.000000     1.000000   \n",
       "25%     112712.000000     0.000000     1.000000     1.000000     2.000000   \n",
       "50%     115167.000000     1.000000     2.000000     4.000000     7.000000   \n",
       "75%     115909.000000     2.000000     4.000000    10.000000    16.000000   \n",
       "max     116634.000000    11.000000    21.000000    32.000000    50.000000   \n",
       "\n",
       "status  Seen/Billed %      Other %    No Show %  \n",
       "count     1609.000000  1609.000000  1609.000000  \n",
       "mean        48.582394    33.219146    18.198461  \n",
       "std         32.585913    30.048895    28.535173  \n",
       "min          0.000000     0.000000     0.000000  \n",
       "25%         21.428571    11.764706     0.000000  \n",
       "50%         55.000000    26.666667     5.882353  \n",
       "75%         73.333333    45.454545    23.076923  \n",
       "max        100.000000   100.000000   100.000000  "
      ]
     },
     "execution_count": 87,
     "metadata": {},
     "output_type": "execute_result"
    }
   ],
   "source": [
    "clients.describe()"
   ]
  },
  {
   "cell_type": "markdown",
   "metadata": {
    "slideshow": {
     "slide_type": "subslide"
    }
   },
   "source": [
    "As we can see 243 of the clients have No-Showed 3 or more appointments, with 70 of them having 5 or more No-Shows and 5 clients with 10 or more No-Show appointments. Making it clear than many of these No-Show appointments are from repeat offenders."
   ]
  },
  {
   "cell_type": "markdown",
   "metadata": {
    "slideshow": {
     "slide_type": "slide"
    }
   },
   "source": [
    "Here we gathered the total of therapists percentage based on appointment. Learning that average therapist No-Show percentage is 10% indicating that those who have a higher percentage could be a factor in the clients No-Show status."
   ]
  },
  {
   "cell_type": "code",
   "execution_count": 80,
   "metadata": {
    "slideshow": {
     "slide_type": "subslide"
    }
   },
   "outputs": [
    {
     "data": {
      "text/html": [
       "<div>\n",
       "<style scoped>\n",
       "    .dataframe tbody tr th:only-of-type {\n",
       "        vertical-align: middle;\n",
       "    }\n",
       "\n",
       "    .dataframe tbody tr th {\n",
       "        vertical-align: top;\n",
       "    }\n",
       "\n",
       "    .dataframe thead th {\n",
       "        text-align: right;\n",
       "    }\n",
       "</style>\n",
       "<table border=\"1\" class=\"dataframe\">\n",
       "  <thead>\n",
       "    <tr style=\"text-align: right;\">\n",
       "      <th>status</th>\n",
       "      <th>therapist</th>\n",
       "      <th>Therapist-No Shows</th>\n",
       "      <th>Therapist-Other</th>\n",
       "      <th>Therapist-Seen/Billed</th>\n",
       "      <th>Therapist-Total</th>\n",
       "      <th>Therapist No Show %</th>\n",
       "      <th>Therapist Other %</th>\n",
       "      <th>Therapist Seen/Billed %</th>\n",
       "    </tr>\n",
       "  </thead>\n",
       "  <tbody>\n",
       "    <tr>\n",
       "      <th>25</th>\n",
       "      <td>therapist_9</td>\n",
       "      <td>227</td>\n",
       "      <td>267</td>\n",
       "      <td>674</td>\n",
       "      <td>1168</td>\n",
       "      <td>19.434932</td>\n",
       "      <td>22.859589</td>\n",
       "      <td>57.705479</td>\n",
       "    </tr>\n",
       "    <tr>\n",
       "      <th>16</th>\n",
       "      <td>therapist_23</td>\n",
       "      <td>210</td>\n",
       "      <td>245</td>\n",
       "      <td>632</td>\n",
       "      <td>1087</td>\n",
       "      <td>19.319227</td>\n",
       "      <td>22.539098</td>\n",
       "      <td>58.141674</td>\n",
       "    </tr>\n",
       "    <tr>\n",
       "      <th>24</th>\n",
       "      <td>therapist_8</td>\n",
       "      <td>175</td>\n",
       "      <td>172</td>\n",
       "      <td>758</td>\n",
       "      <td>1105</td>\n",
       "      <td>15.837104</td>\n",
       "      <td>15.565611</td>\n",
       "      <td>68.597285</td>\n",
       "    </tr>\n",
       "    <tr>\n",
       "      <th>15</th>\n",
       "      <td>therapist_22</td>\n",
       "      <td>159</td>\n",
       "      <td>285</td>\n",
       "      <td>678</td>\n",
       "      <td>1122</td>\n",
       "      <td>14.171123</td>\n",
       "      <td>25.401070</td>\n",
       "      <td>60.427807</td>\n",
       "    </tr>\n",
       "    <tr>\n",
       "      <th>13</th>\n",
       "      <td>therapist_20</td>\n",
       "      <td>146</td>\n",
       "      <td>397</td>\n",
       "      <td>584</td>\n",
       "      <td>1127</td>\n",
       "      <td>12.954747</td>\n",
       "      <td>35.226264</td>\n",
       "      <td>51.818988</td>\n",
       "    </tr>\n",
       "    <tr>\n",
       "      <th>23</th>\n",
       "      <td>therapist_7</td>\n",
       "      <td>134</td>\n",
       "      <td>295</td>\n",
       "      <td>751</td>\n",
       "      <td>1180</td>\n",
       "      <td>11.355932</td>\n",
       "      <td>25.000000</td>\n",
       "      <td>63.644068</td>\n",
       "    </tr>\n",
       "    <tr>\n",
       "      <th>11</th>\n",
       "      <td>therapist_19</td>\n",
       "      <td>134</td>\n",
       "      <td>562</td>\n",
       "      <td>1076</td>\n",
       "      <td>1772</td>\n",
       "      <td>7.562077</td>\n",
       "      <td>31.715576</td>\n",
       "      <td>60.722348</td>\n",
       "    </tr>\n",
       "    <tr>\n",
       "      <th>9</th>\n",
       "      <td>therapist_17</td>\n",
       "      <td>130</td>\n",
       "      <td>290</td>\n",
       "      <td>637</td>\n",
       "      <td>1057</td>\n",
       "      <td>12.298959</td>\n",
       "      <td>27.436140</td>\n",
       "      <td>60.264901</td>\n",
       "    </tr>\n",
       "    <tr>\n",
       "      <th>5</th>\n",
       "      <td>therapist_13</td>\n",
       "      <td>109</td>\n",
       "      <td>276</td>\n",
       "      <td>635</td>\n",
       "      <td>1020</td>\n",
       "      <td>10.686275</td>\n",
       "      <td>27.058824</td>\n",
       "      <td>62.254902</td>\n",
       "    </tr>\n",
       "    <tr>\n",
       "      <th>0</th>\n",
       "      <td>therapist_0</td>\n",
       "      <td>101</td>\n",
       "      <td>215</td>\n",
       "      <td>657</td>\n",
       "      <td>973</td>\n",
       "      <td>10.380267</td>\n",
       "      <td>22.096608</td>\n",
       "      <td>67.523124</td>\n",
       "    </tr>\n",
       "  </tbody>\n",
       "</table>\n",
       "</div>"
      ],
      "text/plain": [
       "status     therapist  Therapist-No Shows  Therapist-Other  \\\n",
       "25       therapist_9                 227              267   \n",
       "16      therapist_23                 210              245   \n",
       "24       therapist_8                 175              172   \n",
       "15      therapist_22                 159              285   \n",
       "13      therapist_20                 146              397   \n",
       "23       therapist_7                 134              295   \n",
       "11      therapist_19                 134              562   \n",
       "9       therapist_17                 130              290   \n",
       "5       therapist_13                 109              276   \n",
       "0        therapist_0                 101              215   \n",
       "\n",
       "status  Therapist-Seen/Billed  Therapist-Total  Therapist No Show %  \\\n",
       "25                        674             1168            19.434932   \n",
       "16                        632             1087            19.319227   \n",
       "24                        758             1105            15.837104   \n",
       "15                        678             1122            14.171123   \n",
       "13                        584             1127            12.954747   \n",
       "23                        751             1180            11.355932   \n",
       "11                       1076             1772             7.562077   \n",
       "9                         637             1057            12.298959   \n",
       "5                         635             1020            10.686275   \n",
       "0                         657              973            10.380267   \n",
       "\n",
       "status  Therapist Other %  Therapist Seen/Billed %  \n",
       "25              22.859589                57.705479  \n",
       "16              22.539098                58.141674  \n",
       "24              15.565611                68.597285  \n",
       "15              25.401070                60.427807  \n",
       "13              35.226264                51.818988  \n",
       "23              25.000000                63.644068  \n",
       "11              31.715576                60.722348  \n",
       "9               27.436140                60.264901  \n",
       "5               27.058824                62.254902  \n",
       "0               22.096608                67.523124  "
      ]
     },
     "execution_count": 80,
     "metadata": {},
     "output_type": "execute_result"
    }
   ],
   "source": [
    "therapist = df.pivot_table(index=['therapist'],columns=['status'],aggfunc='size',fill_value=0)\n",
    "therapist['Total'] = therapist['No Show']+therapist['Other']+therapist['Seen/Billed']\n",
    "therapist['Therapist No Show %'] = therapist['No Show']/therapist['Total']*100\n",
    "therapist['Therapist Other %'] = therapist['Other']/therapist['Total']*100\n",
    "therapist['Therapist Seen/Billed %'] = therapist['Seen/Billed']/therapist['Total']*100\n",
    "rename_cols = {'No Show': 'Therapist-No Shows',\n",
    "               'Other':'Therapist-Other',\n",
    "               'Seen/Billed':'Therapist-Seen/Billed',\n",
    "               'Total':'Therapist-Total'}\n",
    "therapist.rename(rename_cols,axis=1,inplace=True)\n",
    "therapist = therapist.reset_index()\n",
    "therapist.sort_values('Therapist-No Shows',ascending=False).head(10)"
   ]
  },
  {
   "cell_type": "code",
   "execution_count": 81,
   "metadata": {
    "slideshow": {
     "slide_type": "skip"
    }
   },
   "outputs": [
    {
     "data": {
      "text/html": [
       "<div>\n",
       "<style scoped>\n",
       "    .dataframe tbody tr th:only-of-type {\n",
       "        vertical-align: middle;\n",
       "    }\n",
       "\n",
       "    .dataframe tbody tr th {\n",
       "        vertical-align: top;\n",
       "    }\n",
       "\n",
       "    .dataframe thead th {\n",
       "        text-align: right;\n",
       "    }\n",
       "</style>\n",
       "<table border=\"1\" class=\"dataframe\">\n",
       "  <thead>\n",
       "    <tr style=\"text-align: right;\">\n",
       "      <th>status</th>\n",
       "      <th>therapist</th>\n",
       "      <th>Therapist-No Shows</th>\n",
       "      <th>Therapist-Other</th>\n",
       "      <th>Therapist-Seen/Billed</th>\n",
       "      <th>Therapist-Total</th>\n",
       "      <th>Therapist No Show %</th>\n",
       "      <th>Therapist Other %</th>\n",
       "      <th>Therapist Seen/Billed %</th>\n",
       "    </tr>\n",
       "  </thead>\n",
       "  <tbody>\n",
       "    <tr>\n",
       "      <th>1</th>\n",
       "      <td>therapist_1</td>\n",
       "      <td>2</td>\n",
       "      <td>3</td>\n",
       "      <td>5</td>\n",
       "      <td>10</td>\n",
       "      <td>20.000000</td>\n",
       "      <td>30.000000</td>\n",
       "      <td>50.000000</td>\n",
       "    </tr>\n",
       "    <tr>\n",
       "      <th>25</th>\n",
       "      <td>therapist_9</td>\n",
       "      <td>227</td>\n",
       "      <td>267</td>\n",
       "      <td>674</td>\n",
       "      <td>1168</td>\n",
       "      <td>19.434932</td>\n",
       "      <td>22.859589</td>\n",
       "      <td>57.705479</td>\n",
       "    </tr>\n",
       "    <tr>\n",
       "      <th>16</th>\n",
       "      <td>therapist_23</td>\n",
       "      <td>210</td>\n",
       "      <td>245</td>\n",
       "      <td>632</td>\n",
       "      <td>1087</td>\n",
       "      <td>19.319227</td>\n",
       "      <td>22.539098</td>\n",
       "      <td>58.141674</td>\n",
       "    </tr>\n",
       "    <tr>\n",
       "      <th>24</th>\n",
       "      <td>therapist_8</td>\n",
       "      <td>175</td>\n",
       "      <td>172</td>\n",
       "      <td>758</td>\n",
       "      <td>1105</td>\n",
       "      <td>15.837104</td>\n",
       "      <td>15.565611</td>\n",
       "      <td>68.597285</td>\n",
       "    </tr>\n",
       "    <tr>\n",
       "      <th>15</th>\n",
       "      <td>therapist_22</td>\n",
       "      <td>159</td>\n",
       "      <td>285</td>\n",
       "      <td>678</td>\n",
       "      <td>1122</td>\n",
       "      <td>14.171123</td>\n",
       "      <td>25.401070</td>\n",
       "      <td>60.427807</td>\n",
       "    </tr>\n",
       "  </tbody>\n",
       "</table>\n",
       "</div>"
      ],
      "text/plain": [
       "status     therapist  Therapist-No Shows  Therapist-Other  \\\n",
       "1        therapist_1                   2                3   \n",
       "25       therapist_9                 227              267   \n",
       "16      therapist_23                 210              245   \n",
       "24       therapist_8                 175              172   \n",
       "15      therapist_22                 159              285   \n",
       "\n",
       "status  Therapist-Seen/Billed  Therapist-Total  Therapist No Show %  \\\n",
       "1                           5               10            20.000000   \n",
       "25                        674             1168            19.434932   \n",
       "16                        632             1087            19.319227   \n",
       "24                        758             1105            15.837104   \n",
       "15                        678             1122            14.171123   \n",
       "\n",
       "status  Therapist Other %  Therapist Seen/Billed %  \n",
       "1               30.000000                50.000000  \n",
       "25              22.859589                57.705479  \n",
       "16              22.539098                58.141674  \n",
       "24              15.565611                68.597285  \n",
       "15              25.401070                60.427807  "
      ]
     },
     "execution_count": 81,
     "metadata": {},
     "output_type": "execute_result"
    }
   ],
   "source": [
    "therapist.sort_values('Therapist No Show %',ascending=False).head(5)"
   ]
  },
  {
   "cell_type": "code",
   "execution_count": 82,
   "metadata": {
    "slideshow": {
     "slide_type": "subslide"
    }
   },
   "outputs": [
    {
     "data": {
      "text/html": [
       "<div>\n",
       "<style scoped>\n",
       "    .dataframe tbody tr th:only-of-type {\n",
       "        vertical-align: middle;\n",
       "    }\n",
       "\n",
       "    .dataframe tbody tr th {\n",
       "        vertical-align: top;\n",
       "    }\n",
       "\n",
       "    .dataframe thead th {\n",
       "        text-align: right;\n",
       "    }\n",
       "</style>\n",
       "<table border=\"1\" class=\"dataframe\">\n",
       "  <thead>\n",
       "    <tr style=\"text-align: right;\">\n",
       "      <th>status</th>\n",
       "      <th>Therapist-No Shows</th>\n",
       "      <th>Therapist-Other</th>\n",
       "      <th>Therapist-Seen/Billed</th>\n",
       "      <th>Therapist-Total</th>\n",
       "      <th>Therapist No Show %</th>\n",
       "      <th>Therapist Other %</th>\n",
       "      <th>Therapist Seen/Billed %</th>\n",
       "    </tr>\n",
       "  </thead>\n",
       "  <tbody>\n",
       "    <tr>\n",
       "      <th>count</th>\n",
       "      <td>26.000000</td>\n",
       "      <td>26.000000</td>\n",
       "      <td>26.000000</td>\n",
       "      <td>26.000000</td>\n",
       "      <td>26.000000</td>\n",
       "      <td>26.000000</td>\n",
       "      <td>26.000000</td>\n",
       "    </tr>\n",
       "    <tr>\n",
       "      <th>mean</th>\n",
       "      <td>71.115385</td>\n",
       "      <td>162.961538</td>\n",
       "      <td>372.576923</td>\n",
       "      <td>606.653846</td>\n",
       "      <td>10.022555</td>\n",
       "      <td>29.410267</td>\n",
       "      <td>60.567177</td>\n",
       "    </tr>\n",
       "    <tr>\n",
       "      <th>std</th>\n",
       "      <td>73.435320</td>\n",
       "      <td>168.044394</td>\n",
       "      <td>329.965716</td>\n",
       "      <td>545.819453</td>\n",
       "      <td>5.197192</td>\n",
       "      <td>16.861809</td>\n",
       "      <td>15.007530</td>\n",
       "    </tr>\n",
       "    <tr>\n",
       "      <th>min</th>\n",
       "      <td>0.000000</td>\n",
       "      <td>1.000000</td>\n",
       "      <td>0.000000</td>\n",
       "      <td>1.000000</td>\n",
       "      <td>0.000000</td>\n",
       "      <td>9.090909</td>\n",
       "      <td>0.000000</td>\n",
       "    </tr>\n",
       "    <tr>\n",
       "      <th>25%</th>\n",
       "      <td>5.000000</td>\n",
       "      <td>17.000000</td>\n",
       "      <td>29.500000</td>\n",
       "      <td>48.000000</td>\n",
       "      <td>7.691760</td>\n",
       "      <td>22.301441</td>\n",
       "      <td>57.814528</td>\n",
       "    </tr>\n",
       "    <tr>\n",
       "      <th>50%</th>\n",
       "      <td>39.500000</td>\n",
       "      <td>131.500000</td>\n",
       "      <td>354.500000</td>\n",
       "      <td>545.000000</td>\n",
       "      <td>9.799700</td>\n",
       "      <td>25.000000</td>\n",
       "      <td>63.400981</td>\n",
       "    </tr>\n",
       "    <tr>\n",
       "      <th>75%</th>\n",
       "      <td>133.000000</td>\n",
       "      <td>273.750000</td>\n",
       "      <td>652.000000</td>\n",
       "      <td>1100.500000</td>\n",
       "      <td>12.649208</td>\n",
       "      <td>31.376518</td>\n",
       "      <td>68.493418</td>\n",
       "    </tr>\n",
       "    <tr>\n",
       "      <th>max</th>\n",
       "      <td>227.000000</td>\n",
       "      <td>562.000000</td>\n",
       "      <td>1076.000000</td>\n",
       "      <td>1772.000000</td>\n",
       "      <td>20.000000</td>\n",
       "      <td>100.000000</td>\n",
       "      <td>81.818182</td>\n",
       "    </tr>\n",
       "  </tbody>\n",
       "</table>\n",
       "</div>"
      ],
      "text/plain": [
       "status  Therapist-No Shows  Therapist-Other  Therapist-Seen/Billed  \\\n",
       "count            26.000000        26.000000              26.000000   \n",
       "mean             71.115385       162.961538             372.576923   \n",
       "std              73.435320       168.044394             329.965716   \n",
       "min               0.000000         1.000000               0.000000   \n",
       "25%               5.000000        17.000000              29.500000   \n",
       "50%              39.500000       131.500000             354.500000   \n",
       "75%             133.000000       273.750000             652.000000   \n",
       "max             227.000000       562.000000            1076.000000   \n",
       "\n",
       "status  Therapist-Total  Therapist No Show %  Therapist Other %  \\\n",
       "count         26.000000            26.000000          26.000000   \n",
       "mean         606.653846            10.022555          29.410267   \n",
       "std          545.819453             5.197192          16.861809   \n",
       "min            1.000000             0.000000           9.090909   \n",
       "25%           48.000000             7.691760          22.301441   \n",
       "50%          545.000000             9.799700          25.000000   \n",
       "75%         1100.500000            12.649208          31.376518   \n",
       "max         1772.000000            20.000000         100.000000   \n",
       "\n",
       "status  Therapist Seen/Billed %  \n",
       "count                 26.000000  \n",
       "mean                  60.567177  \n",
       "std                   15.007530  \n",
       "min                    0.000000  \n",
       "25%                   57.814528  \n",
       "50%                   63.400981  \n",
       "75%                   68.493418  \n",
       "max                   81.818182  "
      ]
     },
     "execution_count": 82,
     "metadata": {},
     "output_type": "execute_result"
    }
   ],
   "source": [
    "therapist.describe()"
   ]
  },
  {
   "cell_type": "code",
   "execution_count": 83,
   "metadata": {
    "slideshow": {
     "slide_type": "skip"
    }
   },
   "outputs": [],
   "source": [
    "df = pd.merge(left=df,right=clients,how='left')\n",
    "df = pd.merge(left=df,right=therapist,how='left')"
   ]
  },
  {
   "cell_type": "code",
   "execution_count": 88,
   "metadata": {
    "slideshow": {
     "slide_type": "skip"
    }
   },
   "outputs": [
    {
     "data": {
      "text/html": [
       "<div>\n",
       "<style scoped>\n",
       "    .dataframe tbody tr th:only-of-type {\n",
       "        vertical-align: middle;\n",
       "    }\n",
       "\n",
       "    .dataframe tbody tr th {\n",
       "        vertical-align: top;\n",
       "    }\n",
       "\n",
       "    .dataframe thead th {\n",
       "        text-align: right;\n",
       "    }\n",
       "</style>\n",
       "<table border=\"1\" class=\"dataframe\">\n",
       "  <thead>\n",
       "    <tr style=\"text-align: right;\">\n",
       "      <th></th>\n",
       "      <th>account</th>\n",
       "      <th>confirm</th>\n",
       "      <th>status</th>\n",
       "      <th>date</th>\n",
       "      <th>time</th>\n",
       "      <th>city</th>\n",
       "      <th>sex</th>\n",
       "      <th>type</th>\n",
       "      <th>therapist</th>\n",
       "      <th>age</th>\n",
       "      <th>...</th>\n",
       "      <th>Seen/Billed %</th>\n",
       "      <th>Other %</th>\n",
       "      <th>No Show %</th>\n",
       "      <th>Therapist-No Shows</th>\n",
       "      <th>Therapist-Other</th>\n",
       "      <th>Therapist-Seen/Billed</th>\n",
       "      <th>Therapist-Total</th>\n",
       "      <th>Therapist No Show %</th>\n",
       "      <th>Therapist Other %</th>\n",
       "      <th>Therapist Seen/Billed %</th>\n",
       "    </tr>\n",
       "  </thead>\n",
       "  <tbody>\n",
       "    <tr>\n",
       "      <th>0</th>\n",
       "      <td>100017</td>\n",
       "      <td>N</td>\n",
       "      <td>No Show</td>\n",
       "      <td>2019-01-28</td>\n",
       "      <td>14:00:00</td>\n",
       "      <td>HEMPSTEAD</td>\n",
       "      <td>M</td>\n",
       "      <td>MH INTAKE-90791</td>\n",
       "      <td>therapist_23</td>\n",
       "      <td>59</td>\n",
       "      <td>...</td>\n",
       "      <td>0.000000</td>\n",
       "      <td>0.000000</td>\n",
       "      <td>100.000000</td>\n",
       "      <td>210</td>\n",
       "      <td>245</td>\n",
       "      <td>632</td>\n",
       "      <td>1087</td>\n",
       "      <td>19.319227</td>\n",
       "      <td>22.539098</td>\n",
       "      <td>58.141674</td>\n",
       "    </tr>\n",
       "    <tr>\n",
       "      <th>1</th>\n",
       "      <td>100072</td>\n",
       "      <td>Y</td>\n",
       "      <td>Seen/Billed</td>\n",
       "      <td>2019-01-04</td>\n",
       "      <td>15:30:00</td>\n",
       "      <td>UNIONDALE</td>\n",
       "      <td>F</td>\n",
       "      <td>MH IND 30MIN-90832</td>\n",
       "      <td>therapist_20</td>\n",
       "      <td>60</td>\n",
       "      <td>...</td>\n",
       "      <td>58.823529</td>\n",
       "      <td>26.470588</td>\n",
       "      <td>14.705882</td>\n",
       "      <td>146</td>\n",
       "      <td>397</td>\n",
       "      <td>584</td>\n",
       "      <td>1127</td>\n",
       "      <td>12.954747</td>\n",
       "      <td>35.226264</td>\n",
       "      <td>51.818988</td>\n",
       "    </tr>\n",
       "    <tr>\n",
       "      <th>2</th>\n",
       "      <td>100072</td>\n",
       "      <td>Y</td>\n",
       "      <td>Seen/Billed</td>\n",
       "      <td>2019-01-07</td>\n",
       "      <td>15:00:00</td>\n",
       "      <td>UNIONDALE</td>\n",
       "      <td>F</td>\n",
       "      <td>MH PSY FOLLOW UP 15MIN-99213</td>\n",
       "      <td>therapist_25</td>\n",
       "      <td>60</td>\n",
       "      <td>...</td>\n",
       "      <td>58.823529</td>\n",
       "      <td>26.470588</td>\n",
       "      <td>14.705882</td>\n",
       "      <td>44</td>\n",
       "      <td>558</td>\n",
       "      <td>591</td>\n",
       "      <td>1193</td>\n",
       "      <td>3.688181</td>\n",
       "      <td>46.772842</td>\n",
       "      <td>49.538977</td>\n",
       "    </tr>\n",
       "    <tr>\n",
       "      <th>3</th>\n",
       "      <td>100072</td>\n",
       "      <td>N</td>\n",
       "      <td>Seen/Billed</td>\n",
       "      <td>2019-01-11</td>\n",
       "      <td>15:30:00</td>\n",
       "      <td>UNIONDALE</td>\n",
       "      <td>F</td>\n",
       "      <td>MH IND 30MIN-90832</td>\n",
       "      <td>therapist_20</td>\n",
       "      <td>60</td>\n",
       "      <td>...</td>\n",
       "      <td>58.823529</td>\n",
       "      <td>26.470588</td>\n",
       "      <td>14.705882</td>\n",
       "      <td>146</td>\n",
       "      <td>397</td>\n",
       "      <td>584</td>\n",
       "      <td>1127</td>\n",
       "      <td>12.954747</td>\n",
       "      <td>35.226264</td>\n",
       "      <td>51.818988</td>\n",
       "    </tr>\n",
       "    <tr>\n",
       "      <th>4</th>\n",
       "      <td>100072</td>\n",
       "      <td>Y</td>\n",
       "      <td>Seen/Billed</td>\n",
       "      <td>2019-01-17</td>\n",
       "      <td>15:00:00</td>\n",
       "      <td>UNIONDALE</td>\n",
       "      <td>F</td>\n",
       "      <td>MH FAMILY W/PT 60MIN-90847</td>\n",
       "      <td>therapist_20</td>\n",
       "      <td>60</td>\n",
       "      <td>...</td>\n",
       "      <td>58.823529</td>\n",
       "      <td>26.470588</td>\n",
       "      <td>14.705882</td>\n",
       "      <td>146</td>\n",
       "      <td>397</td>\n",
       "      <td>584</td>\n",
       "      <td>1127</td>\n",
       "      <td>12.954747</td>\n",
       "      <td>35.226264</td>\n",
       "      <td>51.818988</td>\n",
       "    </tr>\n",
       "  </tbody>\n",
       "</table>\n",
       "<p>5 rows × 28 columns</p>\n",
       "</div>"
      ],
      "text/plain": [
       "   account confirm       status       date      time       city sex  \\\n",
       "0   100017       N      No Show 2019-01-28  14:00:00  HEMPSTEAD   M   \n",
       "1   100072       Y  Seen/Billed 2019-01-04  15:30:00  UNIONDALE   F   \n",
       "2   100072       Y  Seen/Billed 2019-01-07  15:00:00  UNIONDALE   F   \n",
       "3   100072       N  Seen/Billed 2019-01-11  15:30:00  UNIONDALE   F   \n",
       "4   100072       Y  Seen/Billed 2019-01-17  15:00:00  UNIONDALE   F   \n",
       "\n",
       "                           type     therapist  age           ...             \\\n",
       "0               MH INTAKE-90791  therapist_23   59           ...              \n",
       "1            MH IND 30MIN-90832  therapist_20   60           ...              \n",
       "2  MH PSY FOLLOW UP 15MIN-99213  therapist_25   60           ...              \n",
       "3            MH IND 30MIN-90832  therapist_20   60           ...              \n",
       "4    MH FAMILY W/PT 60MIN-90847  therapist_20   60           ...              \n",
       "\n",
       "   Seen/Billed %    Other %   No Show %  Therapist-No Shows  Therapist-Other  \\\n",
       "0       0.000000   0.000000  100.000000                 210              245   \n",
       "1      58.823529  26.470588   14.705882                 146              397   \n",
       "2      58.823529  26.470588   14.705882                  44              558   \n",
       "3      58.823529  26.470588   14.705882                 146              397   \n",
       "4      58.823529  26.470588   14.705882                 146              397   \n",
       "\n",
       "   Therapist-Seen/Billed  Therapist-Total  Therapist No Show %  \\\n",
       "0                    632             1087            19.319227   \n",
       "1                    584             1127            12.954747   \n",
       "2                    591             1193             3.688181   \n",
       "3                    584             1127            12.954747   \n",
       "4                    584             1127            12.954747   \n",
       "\n",
       "   Therapist Other %  Therapist Seen/Billed %  \n",
       "0          22.539098                58.141674  \n",
       "1          35.226264                51.818988  \n",
       "2          46.772842                49.538977  \n",
       "3          35.226264                51.818988  \n",
       "4          35.226264                51.818988  \n",
       "\n",
       "[5 rows x 28 columns]"
      ]
     },
     "execution_count": 88,
     "metadata": {},
     "output_type": "execute_result"
    }
   ],
   "source": [
    "df.head()"
   ]
  },
  {
   "cell_type": "code",
   "execution_count": 61,
   "metadata": {
    "slideshow": {
     "slide_type": "skip"
    }
   },
   "outputs": [
    {
     "data": {
      "text/plain": [
       "Index(['account', 'confirm', 'status', 'date', 'time', 'city', 'sex', 'type',\n",
       "       'therapist', 'age', 'day_of_week', 'time_frame', 'age_range', 'month',\n",
       "       'No Show', 'Other', 'Seen/Billed', 'Total', 'Seen/Billed %', 'Other %',\n",
       "       'No Show %', 'Therapist-No Shows', 'Therapist-Other',\n",
       "       'Therapist-Seen/Billed', 'Therapist-Total', 'Therapist No Show %',\n",
       "       'Therapist Other %', 'Therapist Seen/Billed %'],\n",
       "      dtype='object')"
      ]
     },
     "execution_count": 61,
     "metadata": {},
     "output_type": "execute_result"
    }
   ],
   "source": [
    "df.columns"
   ]
  },
  {
   "cell_type": "code",
   "execution_count": 89,
   "metadata": {
    "slideshow": {
     "slide_type": "skip"
    }
   },
   "outputs": [
    {
     "data": {
      "text/plain": [
       "MH INTAKE-90791                          237\n",
       "MH PSY FOLLOW UP 15MIN-99213              32\n",
       "MH IND 30MIN-90832                        24\n",
       "MH PSY EVAL-90792                         24\n",
       "MH PSYCHIATRIC RE-EVALUATION (UPDATE)      2\n",
       "RW PSYCHIATRIC RE-EVALUATION               1\n",
       "Name: type, dtype: int64"
      ]
     },
     "execution_count": 89,
     "metadata": {},
     "output_type": "execute_result"
    }
   ],
   "source": [
    "df.loc[df.Total==1,'type'].value_counts()"
   ]
  },
  {
   "cell_type": "code",
   "execution_count": 90,
   "metadata": {
    "slideshow": {
     "slide_type": "skip"
    }
   },
   "outputs": [
    {
     "data": {
      "text/plain": [
       "account                             int64\n",
       "confirm                            object\n",
       "status                             object\n",
       "date                       datetime64[ns]\n",
       "time                               object\n",
       "city                               object\n",
       "sex                                object\n",
       "type                               object\n",
       "therapist                          object\n",
       "age                                 int64\n",
       "day_of_week                         int64\n",
       "time_frame                         object\n",
       "age_range                          object\n",
       "month                               int64\n",
       "No Show                             int64\n",
       "Other                               int64\n",
       "Seen/Billed                         int64\n",
       "Total                               int64\n",
       "Seen/Billed %                     float64\n",
       "Other %                           float64\n",
       "No Show %                         float64\n",
       "Therapist-No Shows                  int64\n",
       "Therapist-Other                     int64\n",
       "Therapist-Seen/Billed               int64\n",
       "Therapist-Total                     int64\n",
       "Therapist No Show %               float64\n",
       "Therapist Other %                 float64\n",
       "Therapist Seen/Billed %           float64\n",
       "dtype: object"
      ]
     },
     "execution_count": 90,
     "metadata": {},
     "output_type": "execute_result"
    }
   ],
   "source": [
    "no_show_2 = df[df.status =='No Show']\n",
    "no_show_2.dtypes"
   ]
  },
  {
   "cell_type": "code",
   "execution_count": 65,
   "metadata": {
    "slideshow": {
     "slide_type": "subslide"
    }
   },
   "outputs": [
    {
     "data": {
      "text/html": [
       "<div>\n",
       "<style scoped>\n",
       "    .dataframe tbody tr th:only-of-type {\n",
       "        vertical-align: middle;\n",
       "    }\n",
       "\n",
       "    .dataframe tbody tr th {\n",
       "        vertical-align: top;\n",
       "    }\n",
       "\n",
       "    .dataframe thead th {\n",
       "        text-align: right;\n",
       "    }\n",
       "</style>\n",
       "<table border=\"1\" class=\"dataframe\">\n",
       "  <thead>\n",
       "    <tr style=\"text-align: right;\">\n",
       "      <th></th>\n",
       "      <th>No Show</th>\n",
       "      <th>Other</th>\n",
       "      <th>Seen/Billed</th>\n",
       "      <th>Total</th>\n",
       "      <th>Seen/Billed %</th>\n",
       "      <th>Other %</th>\n",
       "      <th>No Show %</th>\n",
       "      <th>Therapist-No Shows</th>\n",
       "      <th>Therapist-Other</th>\n",
       "      <th>Therapist-Seen/Billed</th>\n",
       "      <th>Therapist-Total</th>\n",
       "      <th>Therapist No Show %</th>\n",
       "      <th>Therapist Other %</th>\n",
       "      <th>Therapist Seen/Billed %</th>\n",
       "    </tr>\n",
       "  </thead>\n",
       "  <tbody>\n",
       "    <tr>\n",
       "      <th>count</th>\n",
       "      <td>1849.000000</td>\n",
       "      <td>1849.000000</td>\n",
       "      <td>1849.000000</td>\n",
       "      <td>1849.000000</td>\n",
       "      <td>1849.000000</td>\n",
       "      <td>1849.000000</td>\n",
       "      <td>1849.000000</td>\n",
       "      <td>1849.000000</td>\n",
       "      <td>1849.000000</td>\n",
       "      <td>1849.00000</td>\n",
       "      <td>1849.000000</td>\n",
       "      <td>1849.000000</td>\n",
       "      <td>1849.000000</td>\n",
       "      <td>1849.000000</td>\n",
       "    </tr>\n",
       "    <tr>\n",
       "      <th>mean</th>\n",
       "      <td>3.269335</td>\n",
       "      <td>3.958356</td>\n",
       "      <td>8.504056</td>\n",
       "      <td>15.731747</td>\n",
       "      <td>46.488307</td>\n",
       "      <td>23.886762</td>\n",
       "      <td>29.624931</td>\n",
       "      <td>144.029746</td>\n",
       "      <td>275.505679</td>\n",
       "      <td>656.83775</td>\n",
       "      <td>1076.373175</td>\n",
       "      <td>13.325540</td>\n",
       "      <td>25.160541</td>\n",
       "      <td>61.513918</td>\n",
       "    </tr>\n",
       "    <tr>\n",
       "      <th>std</th>\n",
       "      <td>2.261559</td>\n",
       "      <td>3.203065</td>\n",
       "      <td>6.292054</td>\n",
       "      <td>9.506347</td>\n",
       "      <td>22.695616</td>\n",
       "      <td>14.801300</td>\n",
       "      <td>24.433856</td>\n",
       "      <td>56.025298</td>\n",
       "      <td>119.818284</td>\n",
       "      <td>179.74934</td>\n",
       "      <td>298.546603</td>\n",
       "      <td>4.174169</td>\n",
       "      <td>6.118015</td>\n",
       "      <td>5.515065</td>\n",
       "    </tr>\n",
       "    <tr>\n",
       "      <th>min</th>\n",
       "      <td>1.000000</td>\n",
       "      <td>0.000000</td>\n",
       "      <td>0.000000</td>\n",
       "      <td>1.000000</td>\n",
       "      <td>0.000000</td>\n",
       "      <td>0.000000</td>\n",
       "      <td>2.500000</td>\n",
       "      <td>1.000000</td>\n",
       "      <td>1.000000</td>\n",
       "      <td>5.00000</td>\n",
       "      <td>10.000000</td>\n",
       "      <td>3.688181</td>\n",
       "      <td>9.090909</td>\n",
       "      <td>43.902439</td>\n",
       "    </tr>\n",
       "    <tr>\n",
       "      <th>25%</th>\n",
       "      <td>1.000000</td>\n",
       "      <td>2.000000</td>\n",
       "      <td>3.000000</td>\n",
       "      <td>8.000000</td>\n",
       "      <td>33.333333</td>\n",
       "      <td>14.285714</td>\n",
       "      <td>13.888889</td>\n",
       "      <td>109.000000</td>\n",
       "      <td>215.000000</td>\n",
       "      <td>632.00000</td>\n",
       "      <td>1020.000000</td>\n",
       "      <td>10.380267</td>\n",
       "      <td>22.539098</td>\n",
       "      <td>58.141674</td>\n",
       "    </tr>\n",
       "    <tr>\n",
       "      <th>50%</th>\n",
       "      <td>3.000000</td>\n",
       "      <td>3.000000</td>\n",
       "      <td>8.000000</td>\n",
       "      <td>16.000000</td>\n",
       "      <td>50.000000</td>\n",
       "      <td>23.809524</td>\n",
       "      <td>23.076923</td>\n",
       "      <td>134.000000</td>\n",
       "      <td>267.000000</td>\n",
       "      <td>657.00000</td>\n",
       "      <td>1105.000000</td>\n",
       "      <td>12.765957</td>\n",
       "      <td>24.369748</td>\n",
       "      <td>60.427807</td>\n",
       "    </tr>\n",
       "    <tr>\n",
       "      <th>75%</th>\n",
       "      <td>4.000000</td>\n",
       "      <td>6.000000</td>\n",
       "      <td>13.000000</td>\n",
       "      <td>22.000000</td>\n",
       "      <td>62.962963</td>\n",
       "      <td>33.333333</td>\n",
       "      <td>33.333333</td>\n",
       "      <td>175.000000</td>\n",
       "      <td>290.000000</td>\n",
       "      <td>678.00000</td>\n",
       "      <td>1168.000000</td>\n",
       "      <td>15.837104</td>\n",
       "      <td>27.436140</td>\n",
       "      <td>65.691489</td>\n",
       "    </tr>\n",
       "    <tr>\n",
       "      <th>max</th>\n",
       "      <td>11.000000</td>\n",
       "      <td>21.000000</td>\n",
       "      <td>32.000000</td>\n",
       "      <td>50.000000</td>\n",
       "      <td>96.153846</td>\n",
       "      <td>85.714286</td>\n",
       "      <td>100.000000</td>\n",
       "      <td>227.000000</td>\n",
       "      <td>562.000000</td>\n",
       "      <td>1076.00000</td>\n",
       "      <td>1772.000000</td>\n",
       "      <td>20.000000</td>\n",
       "      <td>51.219512</td>\n",
       "      <td>81.818182</td>\n",
       "    </tr>\n",
       "  </tbody>\n",
       "</table>\n",
       "</div>"
      ],
      "text/plain": [
       "           No Show        Other  Seen/Billed        Total  Seen/Billed %  \\\n",
       "count  1849.000000  1849.000000  1849.000000  1849.000000    1849.000000   \n",
       "mean      3.269335     3.958356     8.504056    15.731747      46.488307   \n",
       "std       2.261559     3.203065     6.292054     9.506347      22.695616   \n",
       "min       1.000000     0.000000     0.000000     1.000000       0.000000   \n",
       "25%       1.000000     2.000000     3.000000     8.000000      33.333333   \n",
       "50%       3.000000     3.000000     8.000000    16.000000      50.000000   \n",
       "75%       4.000000     6.000000    13.000000    22.000000      62.962963   \n",
       "max      11.000000    21.000000    32.000000    50.000000      96.153846   \n",
       "\n",
       "           Other %    No Show %  Therapist-No Shows  Therapist-Other  \\\n",
       "count  1849.000000  1849.000000         1849.000000      1849.000000   \n",
       "mean     23.886762    29.624931          144.029746       275.505679   \n",
       "std      14.801300    24.433856           56.025298       119.818284   \n",
       "min       0.000000     2.500000            1.000000         1.000000   \n",
       "25%      14.285714    13.888889          109.000000       215.000000   \n",
       "50%      23.809524    23.076923          134.000000       267.000000   \n",
       "75%      33.333333    33.333333          175.000000       290.000000   \n",
       "max      85.714286   100.000000          227.000000       562.000000   \n",
       "\n",
       "       Therapist-Seen/Billed  Therapist-Total  Therapist No Show %  \\\n",
       "count             1849.00000      1849.000000          1849.000000   \n",
       "mean               656.83775      1076.373175            13.325540   \n",
       "std                179.74934       298.546603             4.174169   \n",
       "min                  5.00000        10.000000             3.688181   \n",
       "25%                632.00000      1020.000000            10.380267   \n",
       "50%                657.00000      1105.000000            12.765957   \n",
       "75%                678.00000      1168.000000            15.837104   \n",
       "max               1076.00000      1772.000000            20.000000   \n",
       "\n",
       "       Therapist Other %  Therapist Seen/Billed %  \n",
       "count        1849.000000              1849.000000  \n",
       "mean           25.160541                61.513918  \n",
       "std             6.118015                 5.515065  \n",
       "min             9.090909                43.902439  \n",
       "25%            22.539098                58.141674  \n",
       "50%            24.369748                60.427807  \n",
       "75%            27.436140                65.691489  \n",
       "max            51.219512                81.818182  "
      ]
     },
     "execution_count": 65,
     "metadata": {},
     "output_type": "execute_result"
    }
   ],
   "source": [
    "no_show_2[['No Show','Other','Seen/Billed','Total','Seen/Billed %','Other %','No Show %','Therapist-No Shows','Therapist-Other','Therapist-Seen/Billed','Therapist-Total','Therapist No Show %','Therapist Other %','Therapist Seen/Billed %']].describe()"
   ]
  },
  {
   "cell_type": "code",
   "execution_count": 91,
   "metadata": {
    "slideshow": {
     "slide_type": "subslide"
    }
   },
   "outputs": [
    {
     "data": {
      "text/html": [
       "<div>\n",
       "<style scoped>\n",
       "    .dataframe tbody tr th:only-of-type {\n",
       "        vertical-align: middle;\n",
       "    }\n",
       "\n",
       "    .dataframe tbody tr th {\n",
       "        vertical-align: top;\n",
       "    }\n",
       "\n",
       "    .dataframe thead th {\n",
       "        text-align: right;\n",
       "    }\n",
       "</style>\n",
       "<table border=\"1\" class=\"dataframe\">\n",
       "  <thead>\n",
       "    <tr style=\"text-align: right;\">\n",
       "      <th></th>\n",
       "      <th>No Show</th>\n",
       "      <th>Other</th>\n",
       "      <th>Seen/Billed</th>\n",
       "      <th>Total</th>\n",
       "      <th>Seen/Billed %</th>\n",
       "      <th>Other %</th>\n",
       "      <th>No Show %</th>\n",
       "      <th>Therapist-No Shows</th>\n",
       "      <th>Therapist-Other</th>\n",
       "      <th>Therapist-Seen/Billed</th>\n",
       "      <th>Therapist-Total</th>\n",
       "      <th>Therapist No Show %</th>\n",
       "      <th>Therapist Other %</th>\n",
       "      <th>Therapist Seen/Billed %</th>\n",
       "    </tr>\n",
       "  </thead>\n",
       "  <tbody>\n",
       "    <tr>\n",
       "      <th>count</th>\n",
       "      <td>9687.000000</td>\n",
       "      <td>9687.000000</td>\n",
       "      <td>9687.000000</td>\n",
       "      <td>9687.000000</td>\n",
       "      <td>9687.000000</td>\n",
       "      <td>9687.000000</td>\n",
       "      <td>9687.000000</td>\n",
       "      <td>9687.000000</td>\n",
       "      <td>9687.000000</td>\n",
       "      <td>9687.000000</td>\n",
       "      <td>9687.000000</td>\n",
       "      <td>9687.000000</td>\n",
       "      <td>9687.000000</td>\n",
       "      <td>9687.000000</td>\n",
       "    </tr>\n",
       "    <tr>\n",
       "      <th>mean</th>\n",
       "      <td>1.623206</td>\n",
       "      <td>4.174254</td>\n",
       "      <td>12.381646</td>\n",
       "      <td>18.179106</td>\n",
       "      <td>68.387893</td>\n",
       "      <td>22.738681</td>\n",
       "      <td>8.873426</td>\n",
       "      <td>125.373490</td>\n",
       "      <td>287.760813</td>\n",
       "      <td>653.565294</td>\n",
       "      <td>1066.699597</td>\n",
       "      <td>11.741430</td>\n",
       "      <td>26.226006</td>\n",
       "      <td>62.032564</td>\n",
       "    </tr>\n",
       "    <tr>\n",
       "      <th>std</th>\n",
       "      <td>1.909492</td>\n",
       "      <td>3.106843</td>\n",
       "      <td>6.476167</td>\n",
       "      <td>8.575353</td>\n",
       "      <td>16.381718</td>\n",
       "      <td>13.235804</td>\n",
       "      <td>9.948135</td>\n",
       "      <td>56.474212</td>\n",
       "      <td>147.667197</td>\n",
       "      <td>218.664474</td>\n",
       "      <td>365.142094</td>\n",
       "      <td>4.196262</td>\n",
       "      <td>7.299442</td>\n",
       "      <td>6.020598</td>\n",
       "    </tr>\n",
       "    <tr>\n",
       "      <th>min</th>\n",
       "      <td>0.000000</td>\n",
       "      <td>0.000000</td>\n",
       "      <td>1.000000</td>\n",
       "      <td>1.000000</td>\n",
       "      <td>11.111111</td>\n",
       "      <td>0.000000</td>\n",
       "      <td>0.000000</td>\n",
       "      <td>0.000000</td>\n",
       "      <td>1.000000</td>\n",
       "      <td>5.000000</td>\n",
       "      <td>10.000000</td>\n",
       "      <td>0.000000</td>\n",
       "      <td>9.090909</td>\n",
       "      <td>43.902439</td>\n",
       "    </tr>\n",
       "    <tr>\n",
       "      <th>25%</th>\n",
       "      <td>0.000000</td>\n",
       "      <td>2.000000</td>\n",
       "      <td>8.000000</td>\n",
       "      <td>12.000000</td>\n",
       "      <td>57.692308</td>\n",
       "      <td>13.333333</td>\n",
       "      <td>0.000000</td>\n",
       "      <td>91.000000</td>\n",
       "      <td>174.000000</td>\n",
       "      <td>591.000000</td>\n",
       "      <td>973.000000</td>\n",
       "      <td>9.308511</td>\n",
       "      <td>22.539098</td>\n",
       "      <td>58.141674</td>\n",
       "    </tr>\n",
       "    <tr>\n",
       "      <th>50%</th>\n",
       "      <td>1.000000</td>\n",
       "      <td>4.000000</td>\n",
       "      <td>12.000000</td>\n",
       "      <td>18.000000</td>\n",
       "      <td>68.750000</td>\n",
       "      <td>21.875000</td>\n",
       "      <td>5.882353</td>\n",
       "      <td>134.000000</td>\n",
       "      <td>276.000000</td>\n",
       "      <td>657.000000</td>\n",
       "      <td>1105.000000</td>\n",
       "      <td>10.924370</td>\n",
       "      <td>25.000000</td>\n",
       "      <td>60.722348</td>\n",
       "    </tr>\n",
       "    <tr>\n",
       "      <th>75%</th>\n",
       "      <td>2.000000</td>\n",
       "      <td>6.000000</td>\n",
       "      <td>16.000000</td>\n",
       "      <td>24.000000</td>\n",
       "      <td>80.000000</td>\n",
       "      <td>31.578947</td>\n",
       "      <td>13.636364</td>\n",
       "      <td>159.000000</td>\n",
       "      <td>295.000000</td>\n",
       "      <td>751.000000</td>\n",
       "      <td>1168.000000</td>\n",
       "      <td>14.171123</td>\n",
       "      <td>27.436140</td>\n",
       "      <td>67.523124</td>\n",
       "    </tr>\n",
       "    <tr>\n",
       "      <th>max</th>\n",
       "      <td>11.000000</td>\n",
       "      <td>21.000000</td>\n",
       "      <td>32.000000</td>\n",
       "      <td>50.000000</td>\n",
       "      <td>100.000000</td>\n",
       "      <td>80.000000</td>\n",
       "      <td>66.666667</td>\n",
       "      <td>227.000000</td>\n",
       "      <td>562.000000</td>\n",
       "      <td>1076.000000</td>\n",
       "      <td>1772.000000</td>\n",
       "      <td>20.000000</td>\n",
       "      <td>51.219512</td>\n",
       "      <td>81.818182</td>\n",
       "    </tr>\n",
       "  </tbody>\n",
       "</table>\n",
       "</div>"
      ],
      "text/plain": [
       "           No Show        Other  Seen/Billed        Total  Seen/Billed %  \\\n",
       "count  9687.000000  9687.000000  9687.000000  9687.000000    9687.000000   \n",
       "mean      1.623206     4.174254    12.381646    18.179106      68.387893   \n",
       "std       1.909492     3.106843     6.476167     8.575353      16.381718   \n",
       "min       0.000000     0.000000     1.000000     1.000000      11.111111   \n",
       "25%       0.000000     2.000000     8.000000    12.000000      57.692308   \n",
       "50%       1.000000     4.000000    12.000000    18.000000      68.750000   \n",
       "75%       2.000000     6.000000    16.000000    24.000000      80.000000   \n",
       "max      11.000000    21.000000    32.000000    50.000000     100.000000   \n",
       "\n",
       "           Other %    No Show %  Therapist-No Shows  Therapist-Other  \\\n",
       "count  9687.000000  9687.000000         9687.000000      9687.000000   \n",
       "mean     22.738681     8.873426          125.373490       287.760813   \n",
       "std      13.235804     9.948135           56.474212       147.667197   \n",
       "min       0.000000     0.000000            0.000000         1.000000   \n",
       "25%      13.333333     0.000000           91.000000       174.000000   \n",
       "50%      21.875000     5.882353          134.000000       276.000000   \n",
       "75%      31.578947    13.636364          159.000000       295.000000   \n",
       "max      80.000000    66.666667          227.000000       562.000000   \n",
       "\n",
       "       Therapist-Seen/Billed  Therapist-Total  Therapist No Show %  \\\n",
       "count            9687.000000      9687.000000          9687.000000   \n",
       "mean              653.565294      1066.699597            11.741430   \n",
       "std               218.664474       365.142094             4.196262   \n",
       "min                 5.000000        10.000000             0.000000   \n",
       "25%               591.000000       973.000000             9.308511   \n",
       "50%               657.000000      1105.000000            10.924370   \n",
       "75%               751.000000      1168.000000            14.171123   \n",
       "max              1076.000000      1772.000000            20.000000   \n",
       "\n",
       "       Therapist Other %  Therapist Seen/Billed %  \n",
       "count        9687.000000              9687.000000  \n",
       "mean           26.226006                62.032564  \n",
       "std             7.299442                 6.020598  \n",
       "min             9.090909                43.902439  \n",
       "25%            22.539098                58.141674  \n",
       "50%            25.000000                60.722348  \n",
       "75%            27.436140                67.523124  \n",
       "max            51.219512                81.818182  "
      ]
     },
     "execution_count": 91,
     "metadata": {},
     "output_type": "execute_result"
    }
   ],
   "source": [
    "seen_billed = df[df.status=='Seen/Billed']\n",
    "seen_billed[['No Show','Other','Seen/Billed','Total','Seen/Billed %','Other %','No Show %','Therapist-No Shows','Therapist-Other','Therapist-Seen/Billed','Therapist-Total','Therapist No Show %','Therapist Other %','Therapist Seen/Billed %']].describe()"
   ]
  },
  {
   "cell_type": "markdown",
   "metadata": {
    "slideshow": {
     "slide_type": "subslide"
    }
   },
   "source": [
    "After gathering more numeric information from the clients and their respected therapist, we're able to gain a much better understaning of percentages among No-Show appointments. These clients No-Show percentage and Other percentage tend to be very similar(around 25%) creating a potential assumption, that clients who No-Show frequently also cancel or reschedule frequently as well. On top of this information, we learned that the therapist of frequently No-Show clients tend to have a No-Show percentage of 13 and Other percentage of 25. To dive in a little deeper, it could be beneficial break all of the No-Show clients into smaller groups based on common similarities and see if this information is reinforced or disputed. "
   ]
  },
  {
   "cell_type": "markdown",
   "metadata": {
    "slideshow": {
     "slide_type": "subslide"
    }
   },
   "source": [
    "Before doing so, it is necessary to compare No-Shows to Seen/Billed appointments to see if these percentages and commonalities are among all appointments or just No-Shows. Comparing No-Show information to that of Seen/Billed appointments we learn some valueable information. Most importantly the among Seen/Billed appointments, those clients average No-Show percentage is around 8%, siginicantly lower than that of No-Show appointments which as previously stated is around 25%."
   ]
  },
  {
   "cell_type": "code",
   "execution_count": 87,
   "metadata": {
    "slideshow": {
     "slide_type": "skip"
    }
   },
   "outputs": [
    {
     "data": {
      "text/html": [
       "<div>\n",
       "<style scoped>\n",
       "    .dataframe tbody tr th:only-of-type {\n",
       "        vertical-align: middle;\n",
       "    }\n",
       "\n",
       "    .dataframe tbody tr th {\n",
       "        vertical-align: top;\n",
       "    }\n",
       "\n",
       "    .dataframe thead th {\n",
       "        text-align: right;\n",
       "    }\n",
       "</style>\n",
       "<table border=\"1\" class=\"dataframe\">\n",
       "  <thead>\n",
       "    <tr style=\"text-align: right;\">\n",
       "      <th></th>\n",
       "      <th>account</th>\n",
       "      <th>age</th>\n",
       "      <th>day_of_week</th>\n",
       "      <th>month</th>\n",
       "      <th>No Show</th>\n",
       "      <th>Other</th>\n",
       "      <th>Seen/Billed</th>\n",
       "      <th>Total</th>\n",
       "      <th>Seen/Billed %</th>\n",
       "      <th>Other %</th>\n",
       "      <th>No Show %</th>\n",
       "      <th>Therapist-No Shows</th>\n",
       "      <th>Therapist-Other</th>\n",
       "      <th>Therapist-Seen/Billed</th>\n",
       "      <th>Therapist-Total</th>\n",
       "      <th>Therapist No Show %</th>\n",
       "      <th>Therapist Other %</th>\n",
       "      <th>Therapist Seen/Billed %</th>\n",
       "    </tr>\n",
       "  </thead>\n",
       "  <tbody>\n",
       "    <tr>\n",
       "      <th>0</th>\n",
       "      <td>100017</td>\n",
       "      <td>59</td>\n",
       "      <td>0</td>\n",
       "      <td>1</td>\n",
       "      <td>1</td>\n",
       "      <td>0</td>\n",
       "      <td>0</td>\n",
       "      <td>1</td>\n",
       "      <td>0.000000</td>\n",
       "      <td>0.000000</td>\n",
       "      <td>100.000000</td>\n",
       "      <td>210</td>\n",
       "      <td>245</td>\n",
       "      <td>632</td>\n",
       "      <td>1087</td>\n",
       "      <td>19.319227</td>\n",
       "      <td>22.539098</td>\n",
       "      <td>58.141674</td>\n",
       "    </tr>\n",
       "    <tr>\n",
       "      <th>7</th>\n",
       "      <td>100072</td>\n",
       "      <td>60</td>\n",
       "      <td>0</td>\n",
       "      <td>2</td>\n",
       "      <td>5</td>\n",
       "      <td>9</td>\n",
       "      <td>20</td>\n",
       "      <td>34</td>\n",
       "      <td>58.823529</td>\n",
       "      <td>26.470588</td>\n",
       "      <td>14.705882</td>\n",
       "      <td>146</td>\n",
       "      <td>397</td>\n",
       "      <td>584</td>\n",
       "      <td>1127</td>\n",
       "      <td>12.954747</td>\n",
       "      <td>35.226264</td>\n",
       "      <td>51.818988</td>\n",
       "    </tr>\n",
       "    <tr>\n",
       "      <th>45</th>\n",
       "      <td>100086</td>\n",
       "      <td>64</td>\n",
       "      <td>0</td>\n",
       "      <td>1</td>\n",
       "      <td>6</td>\n",
       "      <td>7</td>\n",
       "      <td>13</td>\n",
       "      <td>26</td>\n",
       "      <td>50.000000</td>\n",
       "      <td>26.923077</td>\n",
       "      <td>23.076923</td>\n",
       "      <td>210</td>\n",
       "      <td>245</td>\n",
       "      <td>632</td>\n",
       "      <td>1087</td>\n",
       "      <td>19.319227</td>\n",
       "      <td>22.539098</td>\n",
       "      <td>58.141674</td>\n",
       "    </tr>\n",
       "    <tr>\n",
       "      <th>89</th>\n",
       "      <td>100134</td>\n",
       "      <td>48</td>\n",
       "      <td>0</td>\n",
       "      <td>4</td>\n",
       "      <td>3</td>\n",
       "      <td>7</td>\n",
       "      <td>16</td>\n",
       "      <td>26</td>\n",
       "      <td>61.538462</td>\n",
       "      <td>26.923077</td>\n",
       "      <td>11.538462</td>\n",
       "      <td>210</td>\n",
       "      <td>245</td>\n",
       "      <td>632</td>\n",
       "      <td>1087</td>\n",
       "      <td>19.319227</td>\n",
       "      <td>22.539098</td>\n",
       "      <td>58.141674</td>\n",
       "    </tr>\n",
       "    <tr>\n",
       "      <th>97</th>\n",
       "      <td>100277</td>\n",
       "      <td>63</td>\n",
       "      <td>1</td>\n",
       "      <td>4</td>\n",
       "      <td>1</td>\n",
       "      <td>1</td>\n",
       "      <td>0</td>\n",
       "      <td>2</td>\n",
       "      <td>0.000000</td>\n",
       "      <td>50.000000</td>\n",
       "      <td>50.000000</td>\n",
       "      <td>109</td>\n",
       "      <td>276</td>\n",
       "      <td>635</td>\n",
       "      <td>1020</td>\n",
       "      <td>10.686275</td>\n",
       "      <td>27.058824</td>\n",
       "      <td>62.254902</td>\n",
       "    </tr>\n",
       "  </tbody>\n",
       "</table>\n",
       "</div>"
      ],
      "text/plain": [
       "    account  age  day_of_week  month  No Show  Other  Seen/Billed  Total  \\\n",
       "0    100017   59            0      1        1      0            0      1   \n",
       "7    100072   60            0      2        5      9           20     34   \n",
       "45   100086   64            0      1        6      7           13     26   \n",
       "89   100134   48            0      4        3      7           16     26   \n",
       "97   100277   63            1      4        1      1            0      2   \n",
       "\n",
       "    Seen/Billed %    Other %   No Show %  Therapist-No Shows  Therapist-Other  \\\n",
       "0        0.000000   0.000000  100.000000                 210              245   \n",
       "7       58.823529  26.470588   14.705882                 146              397   \n",
       "45      50.000000  26.923077   23.076923                 210              245   \n",
       "89      61.538462  26.923077   11.538462                 210              245   \n",
       "97       0.000000  50.000000   50.000000                 109              276   \n",
       "\n",
       "    Therapist-Seen/Billed  Therapist-Total  Therapist No Show %  \\\n",
       "0                     632             1087            19.319227   \n",
       "7                     584             1127            12.954747   \n",
       "45                    632             1087            19.319227   \n",
       "89                    632             1087            19.319227   \n",
       "97                    635             1020            10.686275   \n",
       "\n",
       "    Therapist Other %  Therapist Seen/Billed %  \n",
       "0           22.539098                58.141674  \n",
       "7           35.226264                51.818988  \n",
       "45          22.539098                58.141674  \n",
       "89          22.539098                58.141674  \n",
       "97          27.058824                62.254902  "
      ]
     },
     "execution_count": 87,
     "metadata": {},
     "output_type": "execute_result"
    }
   ],
   "source": [
    "no_show_2 =no_show_2._get_numeric_data()\n",
    "no_show_2.drop_duplicates(subset='account',inplace=True)\n",
    "no_show_2.head()"
   ]
  },
  {
   "cell_type": "code",
   "execution_count": 75,
   "metadata": {
    "slideshow": {
     "slide_type": "skip"
    }
   },
   "outputs": [],
   "source": [
    "import pylab as pl\n",
    "from sklearn.cluster import KMeans\n",
    "from sklearn.decomposition import PCA\n",
    "from sklearn.preprocessing import StandardScaler"
   ]
  },
  {
   "cell_type": "code",
   "execution_count": 88,
   "metadata": {
    "slideshow": {
     "slide_type": "skip"
    }
   },
   "outputs": [
    {
     "data": {
      "text/plain": [
       "Index(['account', 'age', 'day_of_week', 'month', 'No Show', 'Other',\n",
       "       'Seen/Billed', 'Total', 'Seen/Billed %', 'Other %', 'No Show %',\n",
       "       'Therapist-No Shows', 'Therapist-Other', 'Therapist-Seen/Billed',\n",
       "       'Therapist-Total', 'Therapist No Show %', 'Therapist Other %',\n",
       "       'Therapist Seen/Billed %'],\n",
       "      dtype='object')"
      ]
     },
     "execution_count": 88,
     "metadata": {},
     "output_type": "execute_result"
    }
   ],
   "source": [
    "no_show_2.columns"
   ]
  },
  {
   "cell_type": "code",
   "execution_count": 89,
   "metadata": {
    "slideshow": {
     "slide_type": "skip"
    }
   },
   "outputs": [],
   "source": [
    "columns = no_show_2.columns"
   ]
  },
  {
   "cell_type": "code",
   "execution_count": 90,
   "metadata": {
    "slideshow": {
     "slide_type": "skip"
    }
   },
   "outputs": [
    {
     "name": "stderr",
     "output_type": "stream",
     "text": [
      "C:\\Users\\jboni\\Anaconda3\\lib\\site-packages\\sklearn\\preprocessing\\data.py:625: DataConversionWarning: Data with input dtype int64, float64 were all converted to float64 by StandardScaler.\n",
      "  return self.partial_fit(X, y)\n",
      "C:\\Users\\jboni\\Anaconda3\\lib\\site-packages\\sklearn\\base.py:462: DataConversionWarning: Data with input dtype int64, float64 were all converted to float64 by StandardScaler.\n",
      "  return self.fit(X, **fit_params).transform(X)\n"
     ]
    }
   ],
   "source": [
    "scaler = StandardScaler()\n",
    "scaled_df = scaler.fit_transform(no_show_2)\n",
    "no_show_2 = pd.DataFrame(scaled_df,columns=columns)"
   ]
  },
  {
   "cell_type": "code",
   "execution_count": 91,
   "metadata": {
    "slideshow": {
     "slide_type": "skip"
    }
   },
   "outputs": [
    {
     "data": {
      "image/png": "[encoded data removed]",
      "text/plain": [
       "<Figure size 432x288 with 1 Axes>"
      ]
     },
     "metadata": {
      "needs_background": "light"
     },
     "output_type": "display_data"
    }
   ],
   "source": [
    "k = range(1,20)\n",
    "\n",
    "kmeans = [KMeans(n_clusters=i) for i in k]\n",
    "score =[kmeans[i].fit(no_show_2[no_show_2.columns[1:]]).score(no_show_2[no_show_2.columns[1:]]) for i in range(len(kmeans))]\n",
    "\n",
    "pl.plot(k,score)\n",
    "pl.xlabel('Number of Clusters')\n",
    "pl.ylabel('Score')\n",
    "pl.title('Elbow Curve')\n",
    "pl.show()"
   ]
  },
  {
   "cell_type": "code",
   "execution_count": 92,
   "metadata": {
    "slideshow": {
     "slide_type": "skip"
    }
   },
   "outputs": [],
   "source": [
    "cluster = KMeans(n_clusters=3)\n",
    "\n",
    "no_show_2['cluster'] = cluster.fit_predict(no_show_2[no_show_2.columns[1:]])"
   ]
  },
  {
   "cell_type": "code",
   "execution_count": 93,
   "metadata": {
    "slideshow": {
     "slide_type": "skip"
    }
   },
   "outputs": [
    {
     "data": {
      "text/plain": [
       "19"
      ]
     },
     "execution_count": 93,
     "metadata": {},
     "output_type": "execute_result"
    }
   ],
   "source": [
    "len(no_show_2.columns)"
   ]
  },
  {
   "cell_type": "code",
   "execution_count": 94,
   "metadata": {
    "slideshow": {
     "slide_type": "skip"
    }
   },
   "outputs": [],
   "source": [
    "pca = PCA(n_components=2)\n",
    "no_show_2['x'] = pca.fit_transform(no_show_2.iloc[:,1:19])[:,0]\n",
    "no_show_2['y'] = pca.fit_transform(no_show_2.iloc[:,1:19])[:,1]"
   ]
  },
  {
   "cell_type": "code",
   "execution_count": 95,
   "metadata": {
    "slideshow": {
     "slide_type": "skip"
    }
   },
   "outputs": [
    {
     "data": {
      "text/html": [
       "<div>\n",
       "<style scoped>\n",
       "    .dataframe tbody tr th:only-of-type {\n",
       "        vertical-align: middle;\n",
       "    }\n",
       "\n",
       "    .dataframe tbody tr th {\n",
       "        vertical-align: top;\n",
       "    }\n",
       "\n",
       "    .dataframe thead th {\n",
       "        text-align: right;\n",
       "    }\n",
       "</style>\n",
       "<table border=\"1\" class=\"dataframe\">\n",
       "  <thead>\n",
       "    <tr style=\"text-align: right;\">\n",
       "      <th></th>\n",
       "      <th>index</th>\n",
       "      <th>account</th>\n",
       "      <th>age</th>\n",
       "      <th>day_of_week</th>\n",
       "      <th>month</th>\n",
       "      <th>No Show</th>\n",
       "      <th>Other</th>\n",
       "      <th>Seen/Billed</th>\n",
       "      <th>Total</th>\n",
       "      <th>Seen/Billed %</th>\n",
       "      <th>...</th>\n",
       "      <th>Therapist-No Shows</th>\n",
       "      <th>Therapist-Other</th>\n",
       "      <th>Therapist-Seen/Billed</th>\n",
       "      <th>Therapist-Total</th>\n",
       "      <th>Therapist No Show %</th>\n",
       "      <th>Therapist Other %</th>\n",
       "      <th>Therapist Seen/Billed %</th>\n",
       "      <th>cluster</th>\n",
       "      <th>x</th>\n",
       "      <th>y</th>\n",
       "    </tr>\n",
       "  </thead>\n",
       "  <tbody>\n",
       "    <tr>\n",
       "      <th>0</th>\n",
       "      <td>0</td>\n",
       "      <td>-3.537313</td>\n",
       "      <td>1.782213</td>\n",
       "      <td>-1.255711</td>\n",
       "      <td>-1.304169</td>\n",
       "      <td>-0.670849</td>\n",
       "      <td>-1.052479</td>\n",
       "      <td>-1.10201</td>\n",
       "      <td>-1.231062</td>\n",
       "      <td>-1.6066</td>\n",
       "      <td>...</td>\n",
       "      <td>1.271156</td>\n",
       "      <td>-0.257227</td>\n",
       "      <td>-0.155273</td>\n",
       "      <td>0.040128</td>\n",
       "      <td>1.535549</td>\n",
       "      <td>-0.413267</td>\n",
       "      <td>-0.654559</td>\n",
       "      <td>2</td>\n",
       "      <td>-3.512193</td>\n",
       "      <td>-1.14778</td>\n",
       "    </tr>\n",
       "  </tbody>\n",
       "</table>\n",
       "<p>1 rows × 22 columns</p>\n",
       "</div>"
      ],
      "text/plain": [
       "   index   account       age  day_of_week     month   No Show     Other  \\\n",
       "0      0 -3.537313  1.782213    -1.255711 -1.304169 -0.670849 -1.052479   \n",
       "\n",
       "   Seen/Billed     Total  Seen/Billed %   ...     Therapist-No Shows  \\\n",
       "0     -1.10201 -1.231062        -1.6066   ...               1.271156   \n",
       "\n",
       "   Therapist-Other  Therapist-Seen/Billed  Therapist-Total  \\\n",
       "0        -0.257227              -0.155273         0.040128   \n",
       "\n",
       "   Therapist No Show %  Therapist Other %  Therapist Seen/Billed %  cluster  \\\n",
       "0             1.535549          -0.413267                -0.654559        2   \n",
       "\n",
       "          x        y  \n",
       "0 -3.512193 -1.14778  \n",
       "\n",
       "[1 rows x 22 columns]"
      ]
     },
     "execution_count": 95,
     "metadata": {},
     "output_type": "execute_result"
    }
   ],
   "source": [
    "no_show_2 = no_show_2.reset_index()\n",
    "no_show_2.head(1)"
   ]
  },
  {
   "cell_type": "markdown",
   "metadata": {
    "slideshow": {
     "slide_type": "slide"
    }
   },
   "source": [
    "Through the descriptive statistics of the clusters,we learn that the biggest cluster of No-Show appointments(majority of No-Show appointments) reinforced our previous knowledge. In this cluster the No-Show and Other percentage of clients and therapist is almost identical to that of the general group. We also learn that the majority of no-shows in this cluster share similarities of typically being a minor, individual 30 min appointment type and they tend to fall Monday-Wednesday as well as more frequently in the evening and afternoon. With this information we can properly assume that the status of No-Show can more likely be assumed based on that clients attendance history, type of appointment and age range."
   ]
  },
  {
   "cell_type": "code",
   "execution_count": 96,
   "metadata": {
    "slideshow": {
     "slide_type": "subslide"
    }
   },
   "outputs": [
    {
     "data": {
      "image/png": "[encoded data removed]",
      "text/plain": [
       "<Figure size 720x432 with 1 Axes>"
      ]
     },
     "metadata": {
      "needs_background": "light"
     },
     "output_type": "display_data"
    }
   ],
   "source": [
    "import matplotlib.pyplot as plt\n",
    "\n",
    "kmeans_colors = ['green' if c == 0 else 'blue' if c == 2 else 'red' for c in cluster.labels_]\n",
    "\n",
    "fig = plt.figure(figsize=(10, 6))\n",
    "plt.scatter(x=\"x\",y=\"y\", data=no_show_2,\n",
    "            alpha=0.25,color = kmeans_colors)\n",
    "plt.xlabel(\"PC1\")\n",
    "plt.ylabel(\"PC2\")\n",
    "plt.title(\"KMeans Clusters\")\n",
    "plt.show()"
   ]
  },
  {
   "cell_type": "code",
   "execution_count": 104,
   "metadata": {
    "slideshow": {
     "slide_type": "skip"
    }
   },
   "outputs": [
    {
     "data": {
      "text/html": [
       "<div>\n",
       "<style scoped>\n",
       "    .dataframe tbody tr th:only-of-type {\n",
       "        vertical-align: middle;\n",
       "    }\n",
       "\n",
       "    .dataframe tbody tr th {\n",
       "        vertical-align: top;\n",
       "    }\n",
       "\n",
       "    .dataframe thead th {\n",
       "        text-align: right;\n",
       "    }\n",
       "</style>\n",
       "<table border=\"1\" class=\"dataframe\">\n",
       "  <thead>\n",
       "    <tr style=\"text-align: right;\">\n",
       "      <th></th>\n",
       "      <th>index</th>\n",
       "      <th>account</th>\n",
       "      <th>age</th>\n",
       "      <th>day_of_week</th>\n",
       "      <th>month</th>\n",
       "      <th>No Show</th>\n",
       "      <th>Other</th>\n",
       "      <th>Seen/Billed</th>\n",
       "      <th>Total</th>\n",
       "      <th>Seen/Billed %</th>\n",
       "      <th>...</th>\n",
       "      <th>Therapist-No Shows</th>\n",
       "      <th>Therapist-Other</th>\n",
       "      <th>Therapist-Seen/Billed</th>\n",
       "      <th>Therapist-Total</th>\n",
       "      <th>Therapist No Show %</th>\n",
       "      <th>Therapist Other %</th>\n",
       "      <th>Therapist Seen/Billed %</th>\n",
       "      <th>cluster</th>\n",
       "      <th>x</th>\n",
       "      <th>y</th>\n",
       "    </tr>\n",
       "  </thead>\n",
       "  <tbody>\n",
       "    <tr>\n",
       "      <th>0</th>\n",
       "      <td>0</td>\n",
       "      <td>-3.537313</td>\n",
       "      <td>1.782213</td>\n",
       "      <td>-1.255711</td>\n",
       "      <td>-1.304169</td>\n",
       "      <td>-0.670849</td>\n",
       "      <td>-1.052479</td>\n",
       "      <td>-1.10201</td>\n",
       "      <td>-1.231062</td>\n",
       "      <td>-1.6066</td>\n",
       "      <td>...</td>\n",
       "      <td>1.271156</td>\n",
       "      <td>-0.257227</td>\n",
       "      <td>-0.155273</td>\n",
       "      <td>0.040128</td>\n",
       "      <td>1.535549</td>\n",
       "      <td>-0.413267</td>\n",
       "      <td>-0.654559</td>\n",
       "      <td>2</td>\n",
       "      <td>-3.512193</td>\n",
       "      <td>-1.14778</td>\n",
       "    </tr>\n",
       "  </tbody>\n",
       "</table>\n",
       "<p>1 rows × 22 columns</p>\n",
       "</div>"
      ],
      "text/plain": [
       "   index   account       age  day_of_week     month   No Show     Other  \\\n",
       "0      0 -3.537313  1.782213    -1.255711 -1.304169 -0.670849 -1.052479   \n",
       "\n",
       "   Seen/Billed     Total  Seen/Billed %   ...     Therapist-No Shows  \\\n",
       "0     -1.10201 -1.231062        -1.6066   ...               1.271156   \n",
       "\n",
       "   Therapist-Other  Therapist-Seen/Billed  Therapist-Total  \\\n",
       "0        -0.257227              -0.155273         0.040128   \n",
       "\n",
       "   Therapist No Show %  Therapist Other %  Therapist Seen/Billed %  cluster  \\\n",
       "0             1.535549          -0.413267                -0.654559        2   \n",
       "\n",
       "          x        y  \n",
       "0 -3.512193 -1.14778  \n",
       "\n",
       "[1 rows x 22 columns]"
      ]
     },
     "execution_count": 104,
     "metadata": {},
     "output_type": "execute_result"
    }
   ],
   "source": [
    "no_show_2.head(1)"
   ]
  },
  {
   "cell_type": "code",
   "execution_count": 106,
   "metadata": {
    "slideshow": {
     "slide_type": "skip"
    }
   },
   "outputs": [],
   "source": [
    "no_show = no_show_df.drop_duplicates(subset='account').reset_index()"
   ]
  },
  {
   "cell_type": "code",
   "execution_count": 107,
   "metadata": {
    "slideshow": {
     "slide_type": "skip"
    }
   },
   "outputs": [
    {
     "data": {
      "text/html": [
       "<div>\n",
       "<style scoped>\n",
       "    .dataframe tbody tr th:only-of-type {\n",
       "        vertical-align: middle;\n",
       "    }\n",
       "\n",
       "    .dataframe tbody tr th {\n",
       "        vertical-align: top;\n",
       "    }\n",
       "\n",
       "    .dataframe thead th {\n",
       "        text-align: right;\n",
       "    }\n",
       "</style>\n",
       "<table border=\"1\" class=\"dataframe\">\n",
       "  <thead>\n",
       "    <tr style=\"text-align: right;\">\n",
       "      <th></th>\n",
       "      <th>index</th>\n",
       "      <th>account</th>\n",
       "      <th>confirm</th>\n",
       "      <th>status</th>\n",
       "      <th>date</th>\n",
       "      <th>time</th>\n",
       "      <th>city</th>\n",
       "      <th>sex</th>\n",
       "      <th>type</th>\n",
       "      <th>therapist</th>\n",
       "      <th>age</th>\n",
       "      <th>day_of_week</th>\n",
       "      <th>time_frame</th>\n",
       "      <th>age_range</th>\n",
       "      <th>month</th>\n",
       "    </tr>\n",
       "  </thead>\n",
       "  <tbody>\n",
       "    <tr>\n",
       "      <th>0</th>\n",
       "      <td>0</td>\n",
       "      <td>100017</td>\n",
       "      <td>N</td>\n",
       "      <td>No Show</td>\n",
       "      <td>2019-01-28</td>\n",
       "      <td>14:00:00</td>\n",
       "      <td>HEMPSTEAD</td>\n",
       "      <td>M</td>\n",
       "      <td>MH INTAKE-90791</td>\n",
       "      <td>VAZQUEZ, MSW,-BI, CASAC-T,LIDUVINA</td>\n",
       "      <td>59</td>\n",
       "      <td>0</td>\n",
       "      <td>Afternoon</td>\n",
       "      <td>Elder</td>\n",
       "      <td>1</td>\n",
       "    </tr>\n",
       "  </tbody>\n",
       "</table>\n",
       "</div>"
      ],
      "text/plain": [
       "   index  account confirm   status       date      time       city sex  \\\n",
       "0      0   100017       N  No Show 2019-01-28  14:00:00  HEMPSTEAD   M   \n",
       "\n",
       "              type                           therapist  age  day_of_week  \\\n",
       "0  MH INTAKE-90791  VAZQUEZ, MSW,-BI, CASAC-T,LIDUVINA   59            0   \n",
       "\n",
       "  time_frame age_range  month  \n",
       "0  Afternoon     Elder      1  "
      ]
     },
     "execution_count": 107,
     "metadata": {},
     "output_type": "execute_result"
    }
   ],
   "source": [
    "no_show.head(1)"
   ]
  },
  {
   "cell_type": "code",
   "execution_count": 108,
   "metadata": {
    "slideshow": {
     "slide_type": "skip"
    }
   },
   "outputs": [],
   "source": [
    "cluster_cols = ['index','cluster','x','y']\n",
    "no_show = pd.merge(left=no_show,right=no_show_2[cluster_cols],how='left')"
   ]
  },
  {
   "cell_type": "code",
   "execution_count": null,
   "metadata": {
    "slideshow": {
     "slide_type": "skip"
    }
   },
   "outputs": [],
   "source": [
    "no_show = pd.merge(left=no_show,right=clients,how='left')\n",
    "no_show = pd.merge(left=no_show,right=therapist,how='left')"
   ]
  },
  {
   "cell_type": "code",
   "execution_count": 118,
   "metadata": {
    "slideshow": {
     "slide_type": "subslide"
    }
   },
   "outputs": [
    {
     "data": {
      "text/plain": [
       "1.0    212\n",
       "2.0     99\n",
       "0.0     63\n",
       "Name: cluster, dtype: int64"
      ]
     },
     "execution_count": 118,
     "metadata": {},
     "output_type": "execute_result"
    }
   ],
   "source": [
    "no_show.cluster.value_counts()"
   ]
  },
  {
   "cell_type": "code",
   "execution_count": 121,
   "metadata": {
    "slideshow": {
     "slide_type": "subslide"
    }
   },
   "outputs": [
    {
     "data": {
      "text/plain": [
       "Minor               84\n",
       "Elder               45\n",
       "Middle Age Adult    36\n",
       "Adult               25\n",
       "Early Adult         22\n",
       "Name: age_range, dtype: int64"
      ]
     },
     "execution_count": 121,
     "metadata": {},
     "output_type": "execute_result"
    }
   ],
   "source": [
    "most_noshow = no_show[no_show.cluster == 1.0]\n",
    "most_noshow.age_range.value_counts()"
   ]
  },
  {
   "cell_type": "code",
   "execution_count": 122,
   "metadata": {
    "slideshow": {
     "slide_type": "subslide"
    }
   },
   "outputs": [
    {
     "data": {
      "text/plain": [
       "MH IND 30MIN-90832                       143\n",
       "MH INTAKE-90791                           28\n",
       "MH PSY FOLLOW UP 15MIN-99213              24\n",
       "MH FAMILY W/PT 60MIN-90847                 5\n",
       "MH GROUP 90853                             3\n",
       "MH PSY EVAL-90792                          3\n",
       "MH IND 45MIN-90834                         2\n",
       "MH PSYCHIATRIC RE-EVALUATION (UPDATE)      1\n",
       "MH FAMILY W/O PT 30MIN-90846               1\n",
       "RW PSYCHIATRIC RE-EVALUATION               1\n",
       "Name: type, dtype: int64"
      ]
     },
     "execution_count": 122,
     "metadata": {},
     "output_type": "execute_result"
    }
   ],
   "source": [
    "most_noshow.type.value_counts()"
   ]
  },
  {
   "cell_type": "code",
   "execution_count": 359,
   "metadata": {
    "slideshow": {
     "slide_type": "subslide"
    }
   },
   "outputs": [
    {
     "data": {
      "text/plain": [
       "1    48\n",
       "3    41\n",
       "2    39\n",
       "4    32\n",
       "6    28\n",
       "5    24\n",
       "Name: month, dtype: int64"
      ]
     },
     "execution_count": 359,
     "metadata": {},
     "output_type": "execute_result"
    }
   ],
   "source": [
    "most_noshow.month.value_counts()"
   ]
  },
  {
   "cell_type": "code",
   "execution_count": 319,
   "metadata": {
    "slideshow": {
     "slide_type": "subslide"
    }
   },
   "outputs": [
    {
     "data": {
      "text/plain": [
       "0    57\n",
       "2    49\n",
       "1    44\n",
       "3    35\n",
       "4    24\n",
       "5     3\n",
       "Name: day_of_week, dtype: int64"
      ]
     },
     "execution_count": 319,
     "metadata": {},
     "output_type": "execute_result"
    }
   ],
   "source": [
    "most_noshow.day_of_week.value_counts()"
   ]
  },
  {
   "cell_type": "code",
   "execution_count": 360,
   "metadata": {
    "slideshow": {
     "slide_type": "subslide"
    }
   },
   "outputs": [
    {
     "data": {
      "text/html": [
       "<div>\n",
       "<style scoped>\n",
       "    .dataframe tbody tr th:only-of-type {\n",
       "        vertical-align: middle;\n",
       "    }\n",
       "\n",
       "    .dataframe tbody tr th {\n",
       "        vertical-align: top;\n",
       "    }\n",
       "\n",
       "    .dataframe thead th {\n",
       "        text-align: right;\n",
       "    }\n",
       "</style>\n",
       "<table border=\"1\" class=\"dataframe\">\n",
       "  <thead>\n",
       "    <tr style=\"text-align: right;\">\n",
       "      <th>day_of_week</th>\n",
       "      <th>0</th>\n",
       "      <th>1</th>\n",
       "      <th>2</th>\n",
       "      <th>3</th>\n",
       "      <th>4</th>\n",
       "      <th>5</th>\n",
       "    </tr>\n",
       "    <tr>\n",
       "      <th>time_frame</th>\n",
       "      <th></th>\n",
       "      <th></th>\n",
       "      <th></th>\n",
       "      <th></th>\n",
       "      <th></th>\n",
       "      <th></th>\n",
       "    </tr>\n",
       "  </thead>\n",
       "  <tbody>\n",
       "    <tr>\n",
       "      <th>Afternoon</th>\n",
       "      <td>22</td>\n",
       "      <td>12</td>\n",
       "      <td>16</td>\n",
       "      <td>14</td>\n",
       "      <td>7</td>\n",
       "      <td>1</td>\n",
       "    </tr>\n",
       "    <tr>\n",
       "      <th>Evening</th>\n",
       "      <td>21</td>\n",
       "      <td>23</td>\n",
       "      <td>21</td>\n",
       "      <td>18</td>\n",
       "      <td>0</td>\n",
       "      <td>0</td>\n",
       "    </tr>\n",
       "    <tr>\n",
       "      <th>Morning</th>\n",
       "      <td>14</td>\n",
       "      <td>9</td>\n",
       "      <td>12</td>\n",
       "      <td>3</td>\n",
       "      <td>17</td>\n",
       "      <td>2</td>\n",
       "    </tr>\n",
       "  </tbody>\n",
       "</table>\n",
       "</div>"
      ],
      "text/plain": [
       "day_of_week   0   1   2   3   4  5\n",
       "time_frame                        \n",
       "Afternoon    22  12  16  14   7  1\n",
       "Evening      21  23  21  18   0  0\n",
       "Morning      14   9  12   3  17  2"
      ]
     },
     "execution_count": 360,
     "metadata": {},
     "output_type": "execute_result"
    }
   ],
   "source": [
    "most_noshow.pivot_table(index=['time_frame'],columns=['day_of_week'],aggfunc='size',fill_value=0)"
   ]
  },
  {
   "cell_type": "code",
   "execution_count": 123,
   "metadata": {
    "slideshow": {
     "slide_type": "subslide"
    }
   },
   "outputs": [
    {
     "data": {
      "text/html": [
       "<div>\n",
       "<style scoped>\n",
       "    .dataframe tbody tr th:only-of-type {\n",
       "        vertical-align: middle;\n",
       "    }\n",
       "\n",
       "    .dataframe tbody tr th {\n",
       "        vertical-align: top;\n",
       "    }\n",
       "\n",
       "    .dataframe thead th {\n",
       "        text-align: right;\n",
       "    }\n",
       "</style>\n",
       "<table border=\"1\" class=\"dataframe\">\n",
       "  <thead>\n",
       "    <tr style=\"text-align: right;\">\n",
       "      <th></th>\n",
       "      <th>account</th>\n",
       "      <th>age</th>\n",
       "      <th>day_of_week</th>\n",
       "      <th>month</th>\n",
       "      <th>cluster</th>\n",
       "      <th>x</th>\n",
       "      <th>y</th>\n",
       "      <th>No Show</th>\n",
       "      <th>Other</th>\n",
       "      <th>Seen/Billed</th>\n",
       "      <th>...</th>\n",
       "      <th>Seen/Billed %</th>\n",
       "      <th>Other %</th>\n",
       "      <th>No Show %</th>\n",
       "      <th>Therapist-No Shows</th>\n",
       "      <th>Therapist-Other</th>\n",
       "      <th>Therapist-Seen/Billed</th>\n",
       "      <th>Therapist-Total</th>\n",
       "      <th>Therapist No Show %</th>\n",
       "      <th>Therapist Other %</th>\n",
       "      <th>Therapist Seen/Billed %</th>\n",
       "    </tr>\n",
       "  </thead>\n",
       "  <tbody>\n",
       "    <tr>\n",
       "      <th>count</th>\n",
       "      <td>212.000000</td>\n",
       "      <td>212.000000</td>\n",
       "      <td>212.000000</td>\n",
       "      <td>212.000000</td>\n",
       "      <td>212.0</td>\n",
       "      <td>212.000000</td>\n",
       "      <td>212.000000</td>\n",
       "      <td>212.000000</td>\n",
       "      <td>212.000000</td>\n",
       "      <td>212.000000</td>\n",
       "      <td>...</td>\n",
       "      <td>212.000000</td>\n",
       "      <td>212.000000</td>\n",
       "      <td>212.000000</td>\n",
       "      <td>212.000000</td>\n",
       "      <td>212.000000</td>\n",
       "      <td>212.000000</td>\n",
       "      <td>212.000000</td>\n",
       "      <td>212.000000</td>\n",
       "      <td>212.000000</td>\n",
       "      <td>212.000000</td>\n",
       "    </tr>\n",
       "    <tr>\n",
       "      <th>mean</th>\n",
       "      <td>109741.721698</td>\n",
       "      <td>30.410377</td>\n",
       "      <td>1.688679</td>\n",
       "      <td>3.136792</td>\n",
       "      <td>1.0</td>\n",
       "      <td>0.804825</td>\n",
       "      <td>0.963631</td>\n",
       "      <td>2.452830</td>\n",
       "      <td>4.033019</td>\n",
       "      <td>8.542453</td>\n",
       "      <td>...</td>\n",
       "      <td>48.829440</td>\n",
       "      <td>25.427341</td>\n",
       "      <td>25.743219</td>\n",
       "      <td>144.183962</td>\n",
       "      <td>287.311321</td>\n",
       "      <td>660.773585</td>\n",
       "      <td>1092.268868</td>\n",
       "      <td>13.199351</td>\n",
       "      <td>25.833675</td>\n",
       "      <td>60.966974</td>\n",
       "    </tr>\n",
       "    <tr>\n",
       "      <th>std</th>\n",
       "      <td>3789.244265</td>\n",
       "      <td>19.139956</td>\n",
       "      <td>1.393031</td>\n",
       "      <td>1.696153</td>\n",
       "      <td>0.0</td>\n",
       "      <td>1.107040</td>\n",
       "      <td>1.528552</td>\n",
       "      <td>1.964771</td>\n",
       "      <td>3.413639</td>\n",
       "      <td>6.555132</td>\n",
       "      <td>...</td>\n",
       "      <td>24.390706</td>\n",
       "      <td>15.551066</td>\n",
       "      <td>25.261389</td>\n",
       "      <td>54.017016</td>\n",
       "      <td>118.455372</td>\n",
       "      <td>158.742289</td>\n",
       "      <td>263.753472</td>\n",
       "      <td>4.269002</td>\n",
       "      <td>6.582561</td>\n",
       "      <td>5.562517</td>\n",
       "    </tr>\n",
       "    <tr>\n",
       "      <th>min</th>\n",
       "      <td>100086.000000</td>\n",
       "      <td>7.000000</td>\n",
       "      <td>0.000000</td>\n",
       "      <td>1.000000</td>\n",
       "      <td>1.0</td>\n",
       "      <td>-1.952516</td>\n",
       "      <td>-0.898158</td>\n",
       "      <td>1.000000</td>\n",
       "      <td>0.000000</td>\n",
       "      <td>0.000000</td>\n",
       "      <td>...</td>\n",
       "      <td>0.000000</td>\n",
       "      <td>0.000000</td>\n",
       "      <td>2.500000</td>\n",
       "      <td>5.000000</td>\n",
       "      <td>20.000000</td>\n",
       "      <td>66.000000</td>\n",
       "      <td>91.000000</td>\n",
       "      <td>3.688181</td>\n",
       "      <td>15.565611</td>\n",
       "      <td>49.538977</td>\n",
       "    </tr>\n",
       "    <tr>\n",
       "      <th>25%</th>\n",
       "      <td>107964.250000</td>\n",
       "      <td>14.000000</td>\n",
       "      <td>0.000000</td>\n",
       "      <td>2.000000</td>\n",
       "      <td>1.0</td>\n",
       "      <td>-0.039133</td>\n",
       "      <td>-0.098299</td>\n",
       "      <td>1.000000</td>\n",
       "      <td>1.000000</td>\n",
       "      <td>3.000000</td>\n",
       "      <td>...</td>\n",
       "      <td>35.750000</td>\n",
       "      <td>15.109890</td>\n",
       "      <td>9.880952</td>\n",
       "      <td>109.000000</td>\n",
       "      <td>245.000000</td>\n",
       "      <td>632.000000</td>\n",
       "      <td>1057.000000</td>\n",
       "      <td>10.686275</td>\n",
       "      <td>22.539098</td>\n",
       "      <td>58.141674</td>\n",
       "    </tr>\n",
       "    <tr>\n",
       "      <th>50%</th>\n",
       "      <td>110825.500000</td>\n",
       "      <td>25.000000</td>\n",
       "      <td>2.000000</td>\n",
       "      <td>3.000000</td>\n",
       "      <td>1.0</td>\n",
       "      <td>0.812322</td>\n",
       "      <td>0.512330</td>\n",
       "      <td>2.000000</td>\n",
       "      <td>3.000000</td>\n",
       "      <td>8.000000</td>\n",
       "      <td>...</td>\n",
       "      <td>53.752345</td>\n",
       "      <td>25.000000</td>\n",
       "      <td>17.914439</td>\n",
       "      <td>134.000000</td>\n",
       "      <td>276.000000</td>\n",
       "      <td>657.000000</td>\n",
       "      <td>1105.000000</td>\n",
       "      <td>12.298959</td>\n",
       "      <td>25.000000</td>\n",
       "      <td>60.427807</td>\n",
       "    </tr>\n",
       "    <tr>\n",
       "      <th>75%</th>\n",
       "      <td>112756.250000</td>\n",
       "      <td>45.250000</td>\n",
       "      <td>3.000000</td>\n",
       "      <td>4.000000</td>\n",
       "      <td>1.0</td>\n",
       "      <td>1.511468</td>\n",
       "      <td>1.483809</td>\n",
       "      <td>3.000000</td>\n",
       "      <td>6.000000</td>\n",
       "      <td>13.000000</td>\n",
       "      <td>...</td>\n",
       "      <td>66.666667</td>\n",
       "      <td>35.341556</td>\n",
       "      <td>31.748727</td>\n",
       "      <td>175.000000</td>\n",
       "      <td>295.000000</td>\n",
       "      <td>678.000000</td>\n",
       "      <td>1168.000000</td>\n",
       "      <td>15.837104</td>\n",
       "      <td>27.436140</td>\n",
       "      <td>63.644068</td>\n",
       "    </tr>\n",
       "    <tr>\n",
       "      <th>max</th>\n",
       "      <td>114495.000000</td>\n",
       "      <td>83.000000</td>\n",
       "      <td>5.000000</td>\n",
       "      <td>6.000000</td>\n",
       "      <td>1.0</td>\n",
       "      <td>3.956831</td>\n",
       "      <td>6.235283</td>\n",
       "      <td>10.000000</td>\n",
       "      <td>21.000000</td>\n",
       "      <td>30.000000</td>\n",
       "      <td>...</td>\n",
       "      <td>90.909091</td>\n",
       "      <td>66.666667</td>\n",
       "      <td>100.000000</td>\n",
       "      <td>227.000000</td>\n",
       "      <td>562.000000</td>\n",
       "      <td>1076.000000</td>\n",
       "      <td>1772.000000</td>\n",
       "      <td>19.434932</td>\n",
       "      <td>46.772842</td>\n",
       "      <td>72.527473</td>\n",
       "    </tr>\n",
       "  </tbody>\n",
       "</table>\n",
       "<p>8 rows × 21 columns</p>\n",
       "</div>"
      ],
      "text/plain": [
       "             account         age  day_of_week       month  cluster  \\\n",
       "count     212.000000  212.000000   212.000000  212.000000    212.0   \n",
       "mean   109741.721698   30.410377     1.688679    3.136792      1.0   \n",
       "std      3789.244265   19.139956     1.393031    1.696153      0.0   \n",
       "min    100086.000000    7.000000     0.000000    1.000000      1.0   \n",
       "25%    107964.250000   14.000000     0.000000    2.000000      1.0   \n",
       "50%    110825.500000   25.000000     2.000000    3.000000      1.0   \n",
       "75%    112756.250000   45.250000     3.000000    4.000000      1.0   \n",
       "max    114495.000000   83.000000     5.000000    6.000000      1.0   \n",
       "\n",
       "                x           y     No Show       Other  Seen/Billed  \\\n",
       "count  212.000000  212.000000  212.000000  212.000000   212.000000   \n",
       "mean     0.804825    0.963631    2.452830    4.033019     8.542453   \n",
       "std      1.107040    1.528552    1.964771    3.413639     6.555132   \n",
       "min     -1.952516   -0.898158    1.000000    0.000000     0.000000   \n",
       "25%     -0.039133   -0.098299    1.000000    1.000000     3.000000   \n",
       "50%      0.812322    0.512330    2.000000    3.000000     8.000000   \n",
       "75%      1.511468    1.483809    3.000000    6.000000    13.000000   \n",
       "max      3.956831    6.235283   10.000000   21.000000    30.000000   \n",
       "\n",
       "                ...             Seen/Billed %     Other %   No Show %  \\\n",
       "count           ...                212.000000  212.000000  212.000000   \n",
       "mean            ...                 48.829440   25.427341   25.743219   \n",
       "std             ...                 24.390706   15.551066   25.261389   \n",
       "min             ...                  0.000000    0.000000    2.500000   \n",
       "25%             ...                 35.750000   15.109890    9.880952   \n",
       "50%             ...                 53.752345   25.000000   17.914439   \n",
       "75%             ...                 66.666667   35.341556   31.748727   \n",
       "max             ...                 90.909091   66.666667  100.000000   \n",
       "\n",
       "       Therapist-No Shows  Therapist-Other  Therapist-Seen/Billed  \\\n",
       "count          212.000000       212.000000             212.000000   \n",
       "mean           144.183962       287.311321             660.773585   \n",
       "std             54.017016       118.455372             158.742289   \n",
       "min              5.000000        20.000000              66.000000   \n",
       "25%            109.000000       245.000000             632.000000   \n",
       "50%            134.000000       276.000000             657.000000   \n",
       "75%            175.000000       295.000000             678.000000   \n",
       "max            227.000000       562.000000            1076.000000   \n",
       "\n",
       "       Therapist-Total  Therapist No Show %  Therapist Other %  \\\n",
       "count       212.000000           212.000000         212.000000   \n",
       "mean       1092.268868            13.199351          25.833675   \n",
       "std         263.753472             4.269002           6.582561   \n",
       "min          91.000000             3.688181          15.565611   \n",
       "25%        1057.000000            10.686275          22.539098   \n",
       "50%        1105.000000            12.298959          25.000000   \n",
       "75%        1168.000000            15.837104          27.436140   \n",
       "max        1772.000000            19.434932          46.772842   \n",
       "\n",
       "       Therapist Seen/Billed %  \n",
       "count               212.000000  \n",
       "mean                 60.966974  \n",
       "std                   5.562517  \n",
       "min                  49.538977  \n",
       "25%                  58.141674  \n",
       "50%                  60.427807  \n",
       "75%                  63.644068  \n",
       "max                  72.527473  \n",
       "\n",
       "[8 rows x 21 columns]"
      ]
     },
     "execution_count": 123,
     "metadata": {},
     "output_type": "execute_result"
    }
   ],
   "source": [
    "most_noshow.describe()"
   ]
  },
  {
   "cell_type": "markdown",
   "metadata": {
    "slideshow": {
     "slide_type": "slide"
    }
   },
   "source": [
    "As an experiment, I changed all appointments where the client was seen by a therapist to \"Seen\" and all the appointments where the client was not seen to \"Not Seen\" and will attempt to predict the status of the appointment. Although this wont give us an exact understanding of the No-Show issue, this will give us an idea if a client being seen and not seen can be decided based on the given variables which inturn can give us more insight as to where to pay our attention to as a client being seen is much better for not only the agency's revenue but for the clients progress as well rather than if he/she reschedueles, cancels or no shows."
   ]
  },
  {
   "cell_type": "code",
   "execution_count": 124,
   "metadata": {
    "slideshow": {
     "slide_type": "skip"
    }
   },
   "outputs": [],
   "source": [
    "from sklearn import feature_selection\n",
    "from sklearn.model_selection import train_test_split\n",
    "from sklearn.linear_model import LogisticRegression\n",
    "from sklearn.ensemble import RandomForestClassifier\n",
    "from sklearn import metrics\n",
    "import matplotlib.pyplot as plt\n",
    "import seaborn as sns"
   ]
  },
  {
   "cell_type": "code",
   "execution_count": 84,
   "metadata": {
    "slideshow": {
     "slide_type": "skip"
    }
   },
   "outputs": [
    {
     "data": {
      "text/plain": [
       "Seen        9687\n",
       "Not Seen    6086\n",
       "Name: status, dtype: int64"
      ]
     },
     "execution_count": 84,
     "metadata": {},
     "output_type": "execute_result"
    }
   ],
   "source": [
    "exp = df.copy()\n",
    "exp['status'] = exp['status'].str.replace('Other','Not Seen')\n",
    "exp['status'] = exp['status'].str.replace('No Show','Not Seen')\n",
    "exp['status'] = exp['status'].str.replace('Seen/Billed','Seen')\n",
    "exp.status.value_counts()"
   ]
  },
  {
   "cell_type": "code",
   "execution_count": 85,
   "metadata": {
    "slideshow": {
     "slide_type": "skip"
    }
   },
   "outputs": [
    {
     "data": {
      "text/html": [
       "<div>\n",
       "<style scoped>\n",
       "    .dataframe tbody tr th:only-of-type {\n",
       "        vertical-align: middle;\n",
       "    }\n",
       "\n",
       "    .dataframe tbody tr th {\n",
       "        vertical-align: top;\n",
       "    }\n",
       "\n",
       "    .dataframe thead th {\n",
       "        text-align: right;\n",
       "    }\n",
       "</style>\n",
       "<table border=\"1\" class=\"dataframe\">\n",
       "  <thead>\n",
       "    <tr style=\"text-align: right;\">\n",
       "      <th></th>\n",
       "      <th>confirm</th>\n",
       "      <th>status</th>\n",
       "      <th>city</th>\n",
       "      <th>sex</th>\n",
       "      <th>type</th>\n",
       "      <th>therapist</th>\n",
       "      <th>day_of_week</th>\n",
       "      <th>time_frame</th>\n",
       "      <th>age_range</th>\n",
       "      <th>month</th>\n",
       "      <th>...</th>\n",
       "      <th>Seen/Billed %</th>\n",
       "      <th>Other %</th>\n",
       "      <th>No Show %</th>\n",
       "      <th>Therapist-No Shows</th>\n",
       "      <th>Therapist-Other</th>\n",
       "      <th>Therapist-Seen/Billed</th>\n",
       "      <th>Therapist-Total</th>\n",
       "      <th>Therapist No Show %</th>\n",
       "      <th>Therapist Other %</th>\n",
       "      <th>Therapist Seen/Billed %</th>\n",
       "    </tr>\n",
       "  </thead>\n",
       "  <tbody>\n",
       "    <tr>\n",
       "      <th>0</th>\n",
       "      <td>N</td>\n",
       "      <td>Not Seen</td>\n",
       "      <td>HEMPSTEAD</td>\n",
       "      <td>M</td>\n",
       "      <td>MH INTAKE-90791</td>\n",
       "      <td>therapist_23</td>\n",
       "      <td>0</td>\n",
       "      <td>Afternoon</td>\n",
       "      <td>Elder</td>\n",
       "      <td>1</td>\n",
       "      <td>...</td>\n",
       "      <td>0.0</td>\n",
       "      <td>0.0</td>\n",
       "      <td>100.0</td>\n",
       "      <td>210</td>\n",
       "      <td>245</td>\n",
       "      <td>632</td>\n",
       "      <td>1087</td>\n",
       "      <td>19.319227</td>\n",
       "      <td>22.539098</td>\n",
       "      <td>58.141674</td>\n",
       "    </tr>\n",
       "  </tbody>\n",
       "</table>\n",
       "<p>1 rows × 24 columns</p>\n",
       "</div>"
      ],
      "text/plain": [
       "  confirm    status       city sex             type     therapist  \\\n",
       "0       N  Not Seen  HEMPSTEAD   M  MH INTAKE-90791  therapist_23   \n",
       "\n",
       "   day_of_week time_frame age_range  month           ...             \\\n",
       "0            0  Afternoon     Elder      1           ...              \n",
       "\n",
       "   Seen/Billed %  Other %  No Show %  Therapist-No Shows  Therapist-Other  \\\n",
       "0            0.0      0.0      100.0                 210              245   \n",
       "\n",
       "   Therapist-Seen/Billed  Therapist-Total  Therapist No Show %  \\\n",
       "0                    632             1087            19.319227   \n",
       "\n",
       "   Therapist Other %  Therapist Seen/Billed %  \n",
       "0          22.539098                58.141674  \n",
       "\n",
       "[1 rows x 24 columns]"
      ]
     },
     "execution_count": 85,
     "metadata": {},
     "output_type": "execute_result"
    }
   ],
   "source": [
    "col_drop= ['account','date','time','age']\n",
    "exp.drop(col_drop,axis=1,inplace=True)\n",
    "exp.head(1)"
   ]
  },
  {
   "cell_type": "code",
   "execution_count": 86,
   "metadata": {
    "slideshow": {
     "slide_type": "skip"
    }
   },
   "outputs": [
    {
     "data": {
      "text/html": [
       "<div>\n",
       "<style scoped>\n",
       "    .dataframe tbody tr th:only-of-type {\n",
       "        vertical-align: middle;\n",
       "    }\n",
       "\n",
       "    .dataframe tbody tr th {\n",
       "        vertical-align: top;\n",
       "    }\n",
       "\n",
       "    .dataframe thead th {\n",
       "        text-align: right;\n",
       "    }\n",
       "</style>\n",
       "<table border=\"1\" class=\"dataframe\">\n",
       "  <thead>\n",
       "    <tr style=\"text-align: right;\">\n",
       "      <th></th>\n",
       "      <th>confirm</th>\n",
       "      <th>status</th>\n",
       "      <th>day_of_week</th>\n",
       "      <th>month</th>\n",
       "      <th>No Show</th>\n",
       "      <th>Other</th>\n",
       "      <th>Seen/Billed</th>\n",
       "      <th>Total</th>\n",
       "      <th>Seen/Billed %</th>\n",
       "      <th>Other %</th>\n",
       "      <th>...</th>\n",
       "      <th>therapist_therapist_8</th>\n",
       "      <th>therapist_therapist_9</th>\n",
       "      <th>time_frame_Afternoon</th>\n",
       "      <th>time_frame_Evening</th>\n",
       "      <th>time_frame_Morning</th>\n",
       "      <th>age_range_Adult</th>\n",
       "      <th>age_range_Early Adult</th>\n",
       "      <th>age_range_Elder</th>\n",
       "      <th>age_range_Middle Age Adult</th>\n",
       "      <th>age_range_Minor</th>\n",
       "    </tr>\n",
       "  </thead>\n",
       "  <tbody>\n",
       "    <tr>\n",
       "      <th>0</th>\n",
       "      <td>0</td>\n",
       "      <td>0</td>\n",
       "      <td>0</td>\n",
       "      <td>1</td>\n",
       "      <td>1</td>\n",
       "      <td>0</td>\n",
       "      <td>0</td>\n",
       "      <td>1</td>\n",
       "      <td>0.000000</td>\n",
       "      <td>0.000000</td>\n",
       "      <td>...</td>\n",
       "      <td>0</td>\n",
       "      <td>0</td>\n",
       "      <td>1</td>\n",
       "      <td>0</td>\n",
       "      <td>0</td>\n",
       "      <td>0</td>\n",
       "      <td>0</td>\n",
       "      <td>1</td>\n",
       "      <td>0</td>\n",
       "      <td>0</td>\n",
       "    </tr>\n",
       "    <tr>\n",
       "      <th>1</th>\n",
       "      <td>1</td>\n",
       "      <td>1</td>\n",
       "      <td>4</td>\n",
       "      <td>1</td>\n",
       "      <td>5</td>\n",
       "      <td>9</td>\n",
       "      <td>20</td>\n",
       "      <td>34</td>\n",
       "      <td>58.823529</td>\n",
       "      <td>26.470588</td>\n",
       "      <td>...</td>\n",
       "      <td>0</td>\n",
       "      <td>0</td>\n",
       "      <td>1</td>\n",
       "      <td>0</td>\n",
       "      <td>0</td>\n",
       "      <td>0</td>\n",
       "      <td>0</td>\n",
       "      <td>1</td>\n",
       "      <td>0</td>\n",
       "      <td>0</td>\n",
       "    </tr>\n",
       "    <tr>\n",
       "      <th>2</th>\n",
       "      <td>1</td>\n",
       "      <td>1</td>\n",
       "      <td>0</td>\n",
       "      <td>1</td>\n",
       "      <td>5</td>\n",
       "      <td>9</td>\n",
       "      <td>20</td>\n",
       "      <td>34</td>\n",
       "      <td>58.823529</td>\n",
       "      <td>26.470588</td>\n",
       "      <td>...</td>\n",
       "      <td>0</td>\n",
       "      <td>0</td>\n",
       "      <td>1</td>\n",
       "      <td>0</td>\n",
       "      <td>0</td>\n",
       "      <td>0</td>\n",
       "      <td>0</td>\n",
       "      <td>1</td>\n",
       "      <td>0</td>\n",
       "      <td>0</td>\n",
       "    </tr>\n",
       "    <tr>\n",
       "      <th>3</th>\n",
       "      <td>0</td>\n",
       "      <td>1</td>\n",
       "      <td>4</td>\n",
       "      <td>1</td>\n",
       "      <td>5</td>\n",
       "      <td>9</td>\n",
       "      <td>20</td>\n",
       "      <td>34</td>\n",
       "      <td>58.823529</td>\n",
       "      <td>26.470588</td>\n",
       "      <td>...</td>\n",
       "      <td>0</td>\n",
       "      <td>0</td>\n",
       "      <td>1</td>\n",
       "      <td>0</td>\n",
       "      <td>0</td>\n",
       "      <td>0</td>\n",
       "      <td>0</td>\n",
       "      <td>1</td>\n",
       "      <td>0</td>\n",
       "      <td>0</td>\n",
       "    </tr>\n",
       "    <tr>\n",
       "      <th>4</th>\n",
       "      <td>1</td>\n",
       "      <td>1</td>\n",
       "      <td>3</td>\n",
       "      <td>1</td>\n",
       "      <td>5</td>\n",
       "      <td>9</td>\n",
       "      <td>20</td>\n",
       "      <td>34</td>\n",
       "      <td>58.823529</td>\n",
       "      <td>26.470588</td>\n",
       "      <td>...</td>\n",
       "      <td>0</td>\n",
       "      <td>0</td>\n",
       "      <td>1</td>\n",
       "      <td>0</td>\n",
       "      <td>0</td>\n",
       "      <td>0</td>\n",
       "      <td>0</td>\n",
       "      <td>1</td>\n",
       "      <td>0</td>\n",
       "      <td>0</td>\n",
       "    </tr>\n",
       "  </tbody>\n",
       "</table>\n",
       "<p>5 rows × 141 columns</p>\n",
       "</div>"
      ],
      "text/plain": [
       "   confirm  status  day_of_week  month  No Show  Other  Seen/Billed  Total  \\\n",
       "0        0       0            0      1        1      0            0      1   \n",
       "1        1       1            4      1        5      9           20     34   \n",
       "2        1       1            0      1        5      9           20     34   \n",
       "3        0       1            4      1        5      9           20     34   \n",
       "4        1       1            3      1        5      9           20     34   \n",
       "\n",
       "   Seen/Billed %    Other %       ...         therapist_therapist_8  \\\n",
       "0       0.000000   0.000000       ...                             0   \n",
       "1      58.823529  26.470588       ...                             0   \n",
       "2      58.823529  26.470588       ...                             0   \n",
       "3      58.823529  26.470588       ...                             0   \n",
       "4      58.823529  26.470588       ...                             0   \n",
       "\n",
       "   therapist_therapist_9  time_frame_Afternoon  time_frame_Evening  \\\n",
       "0                      0                     1                   0   \n",
       "1                      0                     1                   0   \n",
       "2                      0                     1                   0   \n",
       "3                      0                     1                   0   \n",
       "4                      0                     1                   0   \n",
       "\n",
       "   time_frame_Morning  age_range_Adult  age_range_Early Adult  \\\n",
       "0                   0                0                      0   \n",
       "1                   0                0                      0   \n",
       "2                   0                0                      0   \n",
       "3                   0                0                      0   \n",
       "4                   0                0                      0   \n",
       "\n",
       "   age_range_Elder  age_range_Middle Age Adult  age_range_Minor  \n",
       "0                1                           0                0  \n",
       "1                1                           0                0  \n",
       "2                1                           0                0  \n",
       "3                1                           0                0  \n",
       "4                1                           0                0  \n",
       "\n",
       "[5 rows x 141 columns]"
      ]
     },
     "execution_count": 86,
     "metadata": {},
     "output_type": "execute_result"
    }
   ],
   "source": [
    "exp['status'] = exp['status'].apply(\n",
    "    lambda x: 0 if x == 'Not Seen' else 1)\n",
    "exp['confirm'] = exp['confirm'].apply(\n",
    "    lambda x: 0 if x == 'N' else 1)\n",
    "exp = pd.get_dummies(exp)\n",
    "exp.head()"
   ]
  },
  {
   "cell_type": "code",
   "execution_count": 187,
   "metadata": {
    "slideshow": {
     "slide_type": "skip"
    }
   },
   "outputs": [],
   "source": [
    "x = exp.drop('status',axis=1)\n",
    "y= exp['status']"
   ]
  },
  {
   "cell_type": "code",
   "execution_count": 188,
   "metadata": {
    "slideshow": {
     "slide_type": "skip"
    }
   },
   "outputs": [],
   "source": [
    "X_trn,X_tst,Y_trn,Y_tst = train_test_split(x,y,test_size=.4)"
   ]
  },
  {
   "cell_type": "code",
   "execution_count": 189,
   "metadata": {
    "slideshow": {
     "slide_type": "slide"
    }
   },
   "outputs": [
    {
     "name": "stderr",
     "output_type": "stream",
     "text": [
      "C:\\Users\\jboni\\Anaconda3\\lib\\site-packages\\sklearn\\linear_model\\logistic.py:433: FutureWarning: Default solver will be changed to 'lbfgs' in 0.22. Specify a solver to silence this warning.\n",
      "  FutureWarning)\n"
     ]
    },
    {
     "name": "stdout",
     "output_type": "stream",
     "text": [
      "accuracy on training data 0.7532494980450174\n",
      "accuracy on test data 0.7519809825673535\n"
     ]
    }
   ],
   "source": [
    "logreg = LogisticRegression()\n",
    "logreg.fit(X_trn,Y_trn)\n",
    "logreg.predict(X_tst)\n",
    "print('accuracy on training data',logreg.score(X_trn, Y_trn))\n",
    "print('accuracy on test data',logreg.score(X_tst, Y_tst))"
   ]
  },
  {
   "cell_type": "code",
   "execution_count": 190,
   "metadata": {
    "slideshow": {
     "slide_type": "subslide"
    }
   },
   "outputs": [
    {
     "data": {
      "image/png": "[encoded data removed]",
      "text/plain": [
       "<Figure size 360x360 with 2 Axes>"
      ]
     },
     "metadata": {
      "needs_background": "light"
     },
     "output_type": "display_data"
    }
   ],
   "source": [
    "predictions = logreg.predict(X_tst)\n",
    "cm = metrics.confusion_matrix(Y_tst,predictions)\n",
    "plt.figure(figsize=[5,5])\n",
    "sns.heatmap(cm, annot=True,cmap='YlGnBu', fmt='g')\n",
    "plt.show()"
   ]
  },
  {
   "cell_type": "code",
   "execution_count": 191,
   "metadata": {
    "slideshow": {
     "slide_type": "subslide"
    }
   },
   "outputs": [
    {
     "data": {
      "image/png": "[encoded data removed]",
      "text/plain": [
       "<Figure size 432x288 with 1 Axes>"
      ]
     },
     "metadata": {
      "needs_background": "light"
     },
     "output_type": "display_data"
    }
   ],
   "source": [
    "lr_roc_auc = metrics.roc_auc_score(Y_tst,predictions)\n",
    "fpr, tpr, threshold = metrics.roc_curve(Y_tst,logreg.predict_proba(X_tst)[:,1])\n",
    "plt.figure()\n",
    "plt.plot(fpr,tpr,label='Log Model (area = %0.2f)' % lr_roc_auc)\n",
    "plt.plot([0,1],[0,1], 'r--')\n",
    "plt.xlabel('False Positive')\n",
    "plt.ylabel('True Positive')\n",
    "plt.title('Logistic Regression: ROC & AUC')\n",
    "plt.legend(loc='lower right')\n",
    "plt.show()"
   ]
  },
  {
   "cell_type": "code",
   "execution_count": 192,
   "metadata": {
    "slideshow": {
     "slide_type": "subslide"
    }
   },
   "outputs": [
    {
     "name": "stdout",
     "output_type": "stream",
     "text": [
      "Classification Report:\n",
      "              precision    recall  f1-score   support\n",
      "\n",
      "           0       0.72      0.60      0.65      2456\n",
      "           1       0.77      0.85      0.81      3854\n",
      "\n",
      "   micro avg       0.75      0.75      0.75      6310\n",
      "   macro avg       0.74      0.72      0.73      6310\n",
      "weighted avg       0.75      0.75      0.75      6310\n",
      "\n"
     ]
    }
   ],
   "source": [
    "from sklearn.metrics import classification_report\n",
    "print(\"Classification Report:\")\n",
    "print (classification_report(Y_tst,predictions))"
   ]
  },
  {
   "cell_type": "code",
   "execution_count": 193,
   "metadata": {
    "slideshow": {
     "slide_type": "subslide"
    }
   },
   "outputs": [
    {
     "name": "stdout",
     "output_type": "stream",
     "text": [
      "accuracy on training data 0.732220226143929\n",
      "accuracy on test data 0.7169572107765452\n"
     ]
    }
   ],
   "source": [
    "from sklearn.ensemble import RandomForestClassifier\n",
    "\n",
    "random_forest_model = RandomForestClassifier(n_estimators=50, max_depth=5)\n",
    "random_forest_model.fit(X_trn, Y_trn)\n",
    " \n",
    "print('accuracy on training data',random_forest_model.score(X_trn, Y_trn))\n",
    "print('accuracy on test data',random_forest_model.score(X_tst, Y_tst))"
   ]
  },
  {
   "cell_type": "code",
   "execution_count": 194,
   "metadata": {
    "slideshow": {
     "slide_type": "subslide"
    }
   },
   "outputs": [
    {
     "data": {
      "text/html": [
       "<div>\n",
       "<style scoped>\n",
       "    .dataframe tbody tr th:only-of-type {\n",
       "        vertical-align: middle;\n",
       "    }\n",
       "\n",
       "    .dataframe tbody tr th {\n",
       "        vertical-align: top;\n",
       "    }\n",
       "\n",
       "    .dataframe thead th {\n",
       "        text-align: right;\n",
       "    }\n",
       "</style>\n",
       "<table border=\"1\" class=\"dataframe\">\n",
       "  <thead>\n",
       "    <tr style=\"text-align: right;\">\n",
       "      <th></th>\n",
       "      <th>Feature</th>\n",
       "      <th>Importance</th>\n",
       "    </tr>\n",
       "  </thead>\n",
       "  <tbody>\n",
       "    <tr>\n",
       "      <th>7</th>\n",
       "      <td>Seen/Billed %</td>\n",
       "      <td>0.260744</td>\n",
       "    </tr>\n",
       "    <tr>\n",
       "      <th>0</th>\n",
       "      <td>confirm</td>\n",
       "      <td>0.201814</td>\n",
       "    </tr>\n",
       "    <tr>\n",
       "      <th>5</th>\n",
       "      <td>Seen/Billed</td>\n",
       "      <td>0.114804</td>\n",
       "    </tr>\n",
       "    <tr>\n",
       "      <th>6</th>\n",
       "      <td>Total</td>\n",
       "      <td>0.042846</td>\n",
       "    </tr>\n",
       "    <tr>\n",
       "      <th>3</th>\n",
       "      <td>No Show</td>\n",
       "      <td>0.030986</td>\n",
       "    </tr>\n",
       "    <tr>\n",
       "      <th>4</th>\n",
       "      <td>Other</td>\n",
       "      <td>0.022123</td>\n",
       "    </tr>\n",
       "    <tr>\n",
       "      <th>2</th>\n",
       "      <td>month</td>\n",
       "      <td>0.008833</td>\n",
       "    </tr>\n",
       "    <tr>\n",
       "      <th>1</th>\n",
       "      <td>day_of_week</td>\n",
       "      <td>0.002480</td>\n",
       "    </tr>\n",
       "  </tbody>\n",
       "</table>\n",
       "</div>"
      ],
      "text/plain": [
       "         Feature  Importance\n",
       "7  Seen/Billed %    0.260744\n",
       "0        confirm    0.201814\n",
       "5    Seen/Billed    0.114804\n",
       "6          Total    0.042846\n",
       "3        No Show    0.030986\n",
       "4          Other    0.022123\n",
       "2          month    0.008833\n",
       "1    day_of_week    0.002480"
      ]
     },
     "execution_count": 194,
     "metadata": {},
     "output_type": "execute_result"
    }
   ],
   "source": [
    "df_feat_importances = pd.DataFrame(list(zip(x,random_forest_model.feature_importances_)), columns=['Feature','Importance']).head(8)\n",
    "df_feat_importances.sort_values(by='Importance',ascending=False)"
   ]
  },
  {
   "cell_type": "code",
   "execution_count": 195,
   "metadata": {
    "slideshow": {
     "slide_type": "subslide"
    }
   },
   "outputs": [
    {
     "data": {
      "text/plain": [
       "<BarContainer object of 8 artists>"
      ]
     },
     "execution_count": 195,
     "metadata": {},
     "output_type": "execute_result"
    },
    {
     "data": {
      "image/png": "[encoded data removed]",
      "text/plain": [
       "<Figure size 432x576 with 1 Axes>"
      ]
     },
     "metadata": {
      "needs_background": "light"
     },
     "output_type": "display_data"
    }
   ],
   "source": [
    "plt.figure(figsize=[6,8])\n",
    "plt.barh(df_feat_importances['Feature'],df_feat_importances['Importance'])"
   ]
  },
  {
   "cell_type": "code",
   "execution_count": 196,
   "metadata": {
    "slideshow": {
     "slide_type": "subslide"
    }
   },
   "outputs": [
    {
     "name": "stdout",
     "output_type": "stream",
     "text": [
      "accuracy on training data 0.765824791292402\n",
      "accuracy on test data 0.7527733755942948\n"
     ]
    }
   ],
   "source": [
    "from sklearn.ensemble import GradientBoostingClassifier\n",
    "\n",
    "gbm_model = GradientBoostingClassifier(n_estimators=50, max_depth=5, min_samples_leaf=100)\n",
    "gbm_model.fit(X_trn, Y_trn)\n",
    " \n",
    "print('accuracy on training data',gbm_model.score(X_trn, Y_trn))\n",
    "print('accuracy on test data',gbm_model.score(X_tst, Y_tst))"
   ]
  },
  {
   "cell_type": "code",
   "execution_count": 197,
   "metadata": {
    "slideshow": {
     "slide_type": "subslide"
    }
   },
   "outputs": [
    {
     "data": {
      "text/plain": [
       "<BarContainer object of 8 artists>"
      ]
     },
     "execution_count": 197,
     "metadata": {},
     "output_type": "execute_result"
    },
    {
     "data": {
      "image/png": "[encoded data removed]",
      "text/plain": [
       "<Figure size 432x576 with 1 Axes>"
      ]
     },
     "metadata": {
      "needs_background": "light"
     },
     "output_type": "display_data"
    }
   ],
   "source": [
    "df_feat_importances_gbm = pd.DataFrame(list(zip(x,gbm_model.feature_importances_)), columns=['Feature','Importance']).head(8)\n",
    "df_feat_importances_gbm.sort_values(by='Importance', inplace=True)\n",
    "plt.figure(figsize=[6,8])\n",
    "plt.barh(df_feat_importances_gbm['Feature'],df_feat_importances_gbm['Importance'])"
   ]
  },
  {
   "cell_type": "code",
   "execution_count": 220,
   "metadata": {
    "slideshow": {
     "slide_type": "skip"
    }
   },
   "outputs": [],
   "source": [
    "from sklearn.model_selection import cross_val_score"
   ]
  },
  {
   "cell_type": "code",
   "execution_count": 235,
   "metadata": {
    "slideshow": {
     "slide_type": "skip"
    }
   },
   "outputs": [
    {
     "data": {
      "text/plain": [
       "array([0.84693878, 0.78350515, 0.8125    , 0.76041667, 0.77083333])"
      ]
     },
     "execution_count": 235,
     "metadata": {},
     "output_type": "execute_result"
    }
   ],
   "source": [
    "cross_val_score(LogisticRegression(penalty='l1',solver='liblinear'),X_tst,Y_tst,cv=5)"
   ]
  },
  {
   "cell_type": "code",
   "execution_count": 227,
   "metadata": {
    "slideshow": {
     "slide_type": "skip"
    }
   },
   "outputs": [
    {
     "data": {
      "text/plain": [
       "array([0.82653061, 0.81443299, 0.80208333, 0.76041667, 0.78125   ])"
      ]
     },
     "execution_count": 227,
     "metadata": {},
     "output_type": "execute_result"
    }
   ],
   "source": [
    "cross_val_score(RandomForestClassifier(n_estimators=50),X_tst,Y_tst,cv=5)"
   ]
  },
  {
   "cell_type": "code",
   "execution_count": 226,
   "metadata": {
    "scrolled": true,
    "slideshow": {
     "slide_type": "skip"
    }
   },
   "outputs": [
    {
     "data": {
      "text/plain": [
       "array([0.81632653, 0.78350515, 0.79166667, 0.80208333, 0.79166667])"
      ]
     },
     "execution_count": 226,
     "metadata": {},
     "output_type": "execute_result"
    }
   ],
   "source": [
    "cross_val_score(GradientBoostingClassifier(),X_tst,Y_tst,cv=5)"
   ]
  },
  {
   "cell_type": "markdown",
   "metadata": {
    "slideshow": {
     "slide_type": "slide"
    }
   },
   "source": [
    "In this experiment we learned that we can predict whether a client will be seen or not based on all of the variables provided with a relatively high accuracy rate and a very low percentage of false negatives. We also learned that some of the factors that played the biggest indications on the prediction were the clients previous attendance. The clients status tends to be indicative on its previous behaviors, meaning clients that were seen more...well were seen more and those who missed appointments tended to do so frequently(confirming the reoccuring offender theory) which was formulated by their total of each status as well as overall total. This gives us great insight for therapist to pay close attention to clients who frequently miss, cancel or reschedule appointments, ask questions and try to gather more information from these clients to see how to better ensure their attendance.\n"
   ]
  },
  {
   "cell_type": "markdown",
   "metadata": {
    "slideshow": {
     "slide_type": "subslide"
    }
   },
   "source": [
    "Potentially, more importantly we learned that the clients confirmation of appointment played a huge role in this prediction. If a client confirmed they were going to the appointment they were more likly to be seen, as well as the contrary. \n",
    "While this information might sound simple and intituative, it can actually provide another solid foundation for tackling the No-Show problem. By implementing a strategy that requires clients to confirm \"yes\" they will be attending the appointment prior to designating a therapist to that time spot, the agency can better ensure the clients attendance. Requiring the client to confirm the day/time of appointment prior to booking that appointment will not only serve as a confirmation but also as a reminder. Without confirming, the slot wont be booked, the therapist wont be paid and the money wont be lost if the client doesnt show."
   ]
  },
  {
   "cell_type": "markdown",
   "metadata": {
    "slideshow": {
     "slide_type": "subslide"
    }
   },
   "source": [
    " Being that therapist with high no-show percentage also showed up frequently in no-show appointments these therapist should be required to ensure this confirmation as therapist to client communication is deeper and more meaningful than that between a secretary and client, ontop of the fact that the therapist can also reiterate how essential consistent attendance is for progress in mental health therapy.Since a big portion of the No-Shows are also minors, during this process therapist should try to improve parent communication and emphasize to these parents how detrimental missed appointments are to the childs progress. Therapist with high No-Show be monitored by supervisiors to make sure they are doing so and that rate doesnt increase. "
   ]
  },
  {
   "cell_type": "markdown",
   "metadata": {
    "slideshow": {
     "slide_type": "subslide"
    }
   },
   "source": [
    "One concept to strongly consider if all else above fails is to begin dropping clients after they miss a certain amount of apointments in a given time period. Since we've learned that there is a pretty significant drop from 243 to 70 in number of No-Show between clients who've missed 3 or more and those who have missed 5 or more, that is a good indicator on which clients are beginning to miss way too many appointments. Although this is not best practice in means of social services, from a business standpoint and it would be best pratcice since these repeat offenders are making up the majority of the No-Shows."
   ]
  },
  {
   "cell_type": "markdown",
   "metadata": {
    "slideshow": {
     "slide_type": "skip"
    }
   },
   "source": [
    "Full disclosure to all my coders/data scientist reading this, this was my last of many attempts playing around with the parameters and columns I used for the Machine learning models. With all of them producing around the same level of accuracy and having the Seen/Billed% and Confirm as the most prevelant indicators. "
   ]
  }
 ],
 "metadata": {
  "celltoolbar": "Slideshow",
  "kernelspec": {
   "display_name": "Python 3",
   "language": "python",
   "name": "python3"
  },
  "language_info": {
   "codemirror_mode": {
    "name": "ipython",
    "version": 3
   },
   "file_extension": ".py",
   "mimetype": "text/x-python",
   "name": "python",
   "nbconvert_exporter": "python",
   "pygments_lexer": "ipython3",
   "version": "3.7.1"
  }
 },
 "nbformat": 4,
 "nbformat_minor": 2
}
